{
 "cells": [
  {
   "cell_type": "markdown",
   "metadata": {},
   "source": [
    "### Starbucks Capstone Challenge\n",
    "# Linear Classifier\n",
    "\n",
    "This notebook aims to train a feed-forward neural network to classify offer sending as appropriate or not. Being a traditional classification approach, this model will be the benchmark model to compare other classification methods."
   ]
  },
  {
   "cell_type": "markdown",
   "metadata": {},
   "source": [
    "## Define functions to train the classifier"
   ]
  },
  {
   "cell_type": "markdown",
   "metadata": {},
   "source": [
    "### Import the necessary libraries"
   ]
  },
  {
   "cell_type": "code",
   "execution_count": 1,
   "metadata": {},
   "outputs": [],
   "source": [
    "import numpy as np\n",
    "import matplotlib.pyplot as plt\n",
    "import torch\n",
    "import torch.nn as nn\n",
    "import torch.optim as optim\n",
    "\n",
    "from models import LinearNN"
   ]
  },
  {
   "cell_type": "markdown",
   "metadata": {},
   "source": [
    "### Load the datasets"
   ]
  },
  {
   "cell_type": "code",
   "execution_count": 2,
   "metadata": {},
   "outputs": [
    {
     "name": "stdout",
     "output_type": "stream",
     "text": [
      "Archive:  dataloaders.zip\r\n",
      "  inflating: dataloaders.pt          \r\n"
     ]
    }
   ],
   "source": [
    "!unzip -o dataloaders.zip\n",
    "train_dataloader, valid_dataloader, test_dataloader = \\\n",
    "    torch.load('dataloaders.pt')"
   ]
  },
  {
   "cell_type": "markdown",
   "metadata": {},
   "source": [
    "### Define validation and training loops"
   ]
  },
  {
   "cell_type": "code",
   "execution_count": 3,
   "metadata": {},
   "outputs": [],
   "source": [
    "def validate(model, dataloader=valid_dataloader, verbose=False):\n",
    "    with torch.no_grad():\n",
    "        model.eval()\n",
    "        POS, NEG = 0, 0\n",
    "        TP, TN, FP, FN = 0, 0, 0, 0\n",
    "        valid_loss = 0\n",
    "        for features, targets in dataloader:\n",
    "            targets = targets.view(-1)\n",
    "            positive = targets == 1\n",
    "            negative = ~positive\n",
    "\n",
    "            prediction = model(features)\n",
    "            targets = targets.view(-1,1).to(dtype=torch.float)\n",
    "            valid_loss += criterion(prediction, targets)\n",
    "\n",
    "            prediction = torch.sigmoid(prediction)\n",
    "            prediction = prediction.round()\n",
    "\n",
    "            ## Compare prediction with target POSITIVE\n",
    "            POS += positive.sum()\n",
    "            # Target TRUE, Prediction TRUE --> True Positive\n",
    "            TP += targets[positive].eq(prediction[positive]).sum()\n",
    "\n",
    "            ## Compare prediction with target NEGATIVE\n",
    "            NEG += negative.sum()\n",
    "            # Target FALSE, Prediction FALSE --> True Negative\n",
    "            TN += targets[negative].eq(prediction[negative]).sum()\n",
    "\n",
    "        FN += POS - TP # Target TRUE, Prediction FALSE --> False Negative\n",
    "        FP += NEG - TN # Target FALSE, Prediction TRUE --> False Positive\n",
    "\n",
    "        # normalize the loss\n",
    "        valid_loss /= len(dataloader)\n",
    "\n",
    "        if verbose:\n",
    "            print(f'\\n\\tValidation ... loss: {valid_loss:7.4f}')\n",
    "            print(f'\\t\\tTP: {TP:4d}\\tFP: {FP:4d}\\tOP: {TP+FP:4d}')\n",
    "            print(f'\\t\\tFN: {FN:4d}\\tTN: {TN:4d}\\tON: {TN+FN:4d}')\n",
    "            print(f'\\t\\tCP: {POS:4d}\\tCN: {NEG:4d}')\n",
    "            print('\\tAccuracy: {:5.2f}%\\tPrecision: {:5.2f}\\tRecall: {:5.2f}\\n'\n",
    "                  .format((TP+TN)/float(POS+NEG)*100,\n",
    "                          TP/float(TP+FP), TP/float(TP+FN)))\n",
    "\n",
    "        model.train()\n",
    "        return valid_loss"
   ]
  },
  {
   "cell_type": "code",
   "execution_count": 4,
   "metadata": {
    "scrolled": false
   },
   "outputs": [],
   "source": [
    "def train(model, dataloader=train_dataloader, epochs=5000):\n",
    "    train_loss = []\n",
    "    valid_loss = []\n",
    "\n",
    "    ## Perform N epochs of training\n",
    "    for epoch in range(1, epochs+1):\n",
    "        epoch_loss = 0\n",
    "        for batch, (features, targets) in enumerate(dataloader):\n",
    "            ## Train the network\n",
    "            optimizer.zero_grad()\n",
    "            prediction = model(features)\n",
    "            targets = targets.view(-1,1).to(dtype=torch.float)\n",
    "            loss = criterion(prediction, targets)\n",
    "            loss.backward()\n",
    "            optimizer.step()\n",
    "            epoch_loss += loss.item()\n",
    "\n",
    "        # Normalize the loss\n",
    "        epoch_loss /= len(dataloader)\n",
    "        train_loss.append(epoch_loss)\n",
    "        lr_scheduler.step(train_loss[-1])\n",
    "\n",
    "        if epoch % 10 == 0:\n",
    "            print('Epoch {:4d}\\ttrain loss: {:7.4f}\\t' \\\n",
    "                  .format(epoch, train_loss[-1]))\n",
    "            loss = validate(model, verbose=True)\n",
    "            valid_loss.append(loss)\n",
    "        else:\n",
    "            loss = validate(model, verbose=False)\n",
    "            valid_loss.append(loss)\n",
    "            print('Epoch {:4d}\\ttrain loss: {:7.4f}\\tvalid loss: {:7.4f}' \\\n",
    "                  .format(epoch, train_loss[-1], valid_loss[-1]))\n",
    "\n",
    "    return train_loss, valid_loss"
   ]
  },
  {
   "cell_type": "markdown",
   "metadata": {},
   "source": [
    "## Build and train the Linear Classifier"
   ]
  },
  {
   "cell_type": "code",
   "execution_count": 5,
   "metadata": {},
   "outputs": [],
   "source": [
    "linear_classifier = LinearNN(input_size=16, output_size=1,\n",
    "                             hidden_layers=[128,128,128])\n",
    "criterion = nn.BCEWithLogitsLoss()\n",
    "optimizer = optim.Adam(linear_classifier.parameters(), lr=0.0001)\n",
    "lr_scheduler = optim.lr_scheduler.ReduceLROnPlateau(\n",
    "    optimizer, factor=0.2, patience=100, verbose=True)"
   ]
  },
  {
   "cell_type": "code",
   "execution_count": 6,
   "metadata": {
    "scrolled": false
   },
   "outputs": [
    {
     "name": "stdout",
     "output_type": "stream",
     "text": [
      "Epoch    1\ttrain loss:  0.6502\tvalid loss:  0.6140\n",
      "Epoch    2\ttrain loss:  0.6131\tvalid loss:  0.6031\n",
      "Epoch    3\ttrain loss:  0.6071\tvalid loss:  0.5991\n",
      "Epoch    4\ttrain loss:  0.6037\tvalid loss:  0.5977\n",
      "Epoch    5\ttrain loss:  0.6010\tvalid loss:  0.5988\n",
      "Epoch    6\ttrain loss:  0.5988\tvalid loss:  0.5951\n",
      "Epoch    7\ttrain loss:  0.5991\tvalid loss:  0.5944\n",
      "Epoch    8\ttrain loss:  0.5976\tvalid loss:  0.5937\n",
      "Epoch    9\ttrain loss:  0.5953\tvalid loss:  0.5936\n",
      "Epoch   10\ttrain loss:  0.5956\t\n",
      "\n",
      "\tValidation ... loss:  0.5931\n",
      "\t\tTP: 2852\tFP: 1701\tOP: 4553\n",
      "\t\tFN: 1433\tTN: 3554\tON: 4987\n",
      "\t\tCP: 4285\tCN: 5255\n",
      "\tAccuracy: 67.15%\tPrecision:  0.63\tRecall:  0.67\n",
      "\n",
      "Epoch   11\ttrain loss:  0.5945\tvalid loss:  0.5929\n",
      "Epoch   12\ttrain loss:  0.5936\tvalid loss:  0.5914\n",
      "Epoch   13\ttrain loss:  0.5935\tvalid loss:  0.5921\n",
      "Epoch   14\ttrain loss:  0.5930\tvalid loss:  0.5909\n",
      "Epoch   15\ttrain loss:  0.5921\tvalid loss:  0.5904\n",
      "Epoch   16\ttrain loss:  0.5921\tvalid loss:  0.5899\n",
      "Epoch   17\ttrain loss:  0.5918\tvalid loss:  0.5904\n",
      "Epoch   18\ttrain loss:  0.5915\tvalid loss:  0.5896\n",
      "Epoch   19\ttrain loss:  0.5906\tvalid loss:  0.5914\n",
      "Epoch   20\ttrain loss:  0.5903\t\n",
      "\n",
      "\tValidation ... loss:  0.5888\n",
      "\t\tTP: 2823\tFP: 1640\tOP: 4463\n",
      "\t\tFN: 1462\tTN: 3615\tON: 5077\n",
      "\t\tCP: 4285\tCN: 5255\n",
      "\tAccuracy: 67.48%\tPrecision:  0.63\tRecall:  0.66\n",
      "\n",
      "Epoch   21\ttrain loss:  0.5906\tvalid loss:  0.5899\n",
      "Epoch   22\ttrain loss:  0.5909\tvalid loss:  0.5893\n",
      "Epoch   23\ttrain loss:  0.5895\tvalid loss:  0.5890\n",
      "Epoch   24\ttrain loss:  0.5894\tvalid loss:  0.5890\n",
      "Epoch   25\ttrain loss:  0.5887\tvalid loss:  0.5886\n",
      "Epoch   26\ttrain loss:  0.5892\tvalid loss:  0.5885\n",
      "Epoch   27\ttrain loss:  0.5890\tvalid loss:  0.5882\n",
      "Epoch   28\ttrain loss:  0.5884\tvalid loss:  0.5879\n",
      "Epoch   29\ttrain loss:  0.5882\tvalid loss:  0.5875\n",
      "Epoch   30\ttrain loss:  0.5882\t\n",
      "\n",
      "\tValidation ... loss:  0.5881\n",
      "\t\tTP: 2948\tFP: 1740\tOP: 4688\n",
      "\t\tFN: 1337\tTN: 3515\tON: 4852\n",
      "\t\tCP: 4285\tCN: 5255\n",
      "\tAccuracy: 67.75%\tPrecision:  0.63\tRecall:  0.69\n",
      "\n",
      "Epoch   31\ttrain loss:  0.5877\tvalid loss:  0.5872\n",
      "Epoch   32\ttrain loss:  0.5882\tvalid loss:  0.5882\n",
      "Epoch   33\ttrain loss:  0.5876\tvalid loss:  0.5876\n",
      "Epoch   34\ttrain loss:  0.5872\tvalid loss:  0.5874\n",
      "Epoch   35\ttrain loss:  0.5871\tvalid loss:  0.5878\n",
      "Epoch   36\ttrain loss:  0.5871\tvalid loss:  0.5880\n",
      "Epoch   37\ttrain loss:  0.5871\tvalid loss:  0.5874\n",
      "Epoch   38\ttrain loss:  0.5873\tvalid loss:  0.5870\n",
      "Epoch   39\ttrain loss:  0.5868\tvalid loss:  0.5872\n",
      "Epoch   40\ttrain loss:  0.5868\t\n",
      "\n",
      "\tValidation ... loss:  0.5876\n",
      "\t\tTP: 2980\tFP: 1763\tOP: 4743\n",
      "\t\tFN: 1305\tTN: 3492\tON: 4797\n",
      "\t\tCP: 4285\tCN: 5255\n",
      "\tAccuracy: 67.84%\tPrecision:  0.63\tRecall:  0.70\n",
      "\n",
      "Epoch   41\ttrain loss:  0.5866\tvalid loss:  0.5880\n",
      "Epoch   42\ttrain loss:  0.5867\tvalid loss:  0.5876\n",
      "Epoch   43\ttrain loss:  0.5863\tvalid loss:  0.5869\n",
      "Epoch   44\ttrain loss:  0.5869\tvalid loss:  0.5886\n",
      "Epoch   45\ttrain loss:  0.5861\tvalid loss:  0.5869\n",
      "Epoch   46\ttrain loss:  0.5853\tvalid loss:  0.5867\n",
      "Epoch   47\ttrain loss:  0.5857\tvalid loss:  0.5873\n",
      "Epoch   48\ttrain loss:  0.5864\tvalid loss:  0.5875\n",
      "Epoch   49\ttrain loss:  0.5860\tvalid loss:  0.5869\n",
      "Epoch   50\ttrain loss:  0.5861\t\n",
      "\n",
      "\tValidation ... loss:  0.5863\n",
      "\t\tTP: 2993\tFP: 1762\tOP: 4755\n",
      "\t\tFN: 1292\tTN: 3493\tON: 4785\n",
      "\t\tCP: 4285\tCN: 5255\n",
      "\tAccuracy: 67.99%\tPrecision:  0.63\tRecall:  0.70\n",
      "\n",
      "Epoch   51\ttrain loss:  0.5851\tvalid loss:  0.5866\n",
      "Epoch   52\ttrain loss:  0.5854\tvalid loss:  0.5863\n",
      "Epoch   53\ttrain loss:  0.5847\tvalid loss:  0.5864\n",
      "Epoch   54\ttrain loss:  0.5859\tvalid loss:  0.5868\n",
      "Epoch   55\ttrain loss:  0.5850\tvalid loss:  0.5861\n",
      "Epoch   56\ttrain loss:  0.5850\tvalid loss:  0.5867\n",
      "Epoch   57\ttrain loss:  0.5853\tvalid loss:  0.5864\n",
      "Epoch   58\ttrain loss:  0.5853\tvalid loss:  0.5863\n",
      "Epoch   59\ttrain loss:  0.5850\tvalid loss:  0.5864\n",
      "Epoch   60\ttrain loss:  0.5850\t\n",
      "\n",
      "\tValidation ... loss:  0.5856\n",
      "\t\tTP: 3008\tFP: 1795\tOP: 4803\n",
      "\t\tFN: 1277\tTN: 3460\tON: 4737\n",
      "\t\tCP: 4285\tCN: 5255\n",
      "\tAccuracy: 67.80%\tPrecision:  0.63\tRecall:  0.70\n",
      "\n",
      "Epoch   61\ttrain loss:  0.5844\tvalid loss:  0.5862\n",
      "Epoch   62\ttrain loss:  0.5846\tvalid loss:  0.5861\n",
      "Epoch   63\ttrain loss:  0.5843\tvalid loss:  0.5866\n",
      "Epoch   64\ttrain loss:  0.5848\tvalid loss:  0.5863\n",
      "Epoch   65\ttrain loss:  0.5842\tvalid loss:  0.5868\n",
      "Epoch   66\ttrain loss:  0.5839\tvalid loss:  0.5862\n",
      "Epoch   67\ttrain loss:  0.5844\tvalid loss:  0.5864\n",
      "Epoch   68\ttrain loss:  0.5839\tvalid loss:  0.5867\n",
      "Epoch   69\ttrain loss:  0.5846\tvalid loss:  0.5863\n",
      "Epoch   70\ttrain loss:  0.5843\t\n",
      "\n",
      "\tValidation ... loss:  0.5869\n",
      "\t\tTP: 3069\tFP: 1863\tOP: 4932\n",
      "\t\tFN: 1216\tTN: 3392\tON: 4608\n",
      "\t\tCP: 4285\tCN: 5255\n",
      "\tAccuracy: 67.73%\tPrecision:  0.62\tRecall:  0.72\n",
      "\n",
      "Epoch   71\ttrain loss:  0.5836\tvalid loss:  0.5869\n",
      "Epoch   72\ttrain loss:  0.5834\tvalid loss:  0.5864\n",
      "Epoch   73\ttrain loss:  0.5831\tvalid loss:  0.5860\n",
      "Epoch   74\ttrain loss:  0.5835\tvalid loss:  0.5863\n",
      "Epoch   75\ttrain loss:  0.5836\tvalid loss:  0.5861\n",
      "Epoch   76\ttrain loss:  0.5831\tvalid loss:  0.5866\n",
      "Epoch   77\ttrain loss:  0.5834\tvalid loss:  0.5859\n",
      "Epoch   78\ttrain loss:  0.5833\tvalid loss:  0.5871\n",
      "Epoch   79\ttrain loss:  0.5832\tvalid loss:  0.5866\n",
      "Epoch   80\ttrain loss:  0.5832\t\n",
      "\n",
      "\tValidation ... loss:  0.5861\n",
      "\t\tTP: 3008\tFP: 1799\tOP: 4807\n",
      "\t\tFN: 1277\tTN: 3456\tON: 4733\n",
      "\t\tCP: 4285\tCN: 5255\n",
      "\tAccuracy: 67.76%\tPrecision:  0.63\tRecall:  0.70\n",
      "\n",
      "Epoch   81\ttrain loss:  0.5832\tvalid loss:  0.5859\n",
      "Epoch   82\ttrain loss:  0.5838\tvalid loss:  0.5859\n",
      "Epoch   83\ttrain loss:  0.5835\tvalid loss:  0.5858\n",
      "Epoch   84\ttrain loss:  0.5829\tvalid loss:  0.5862\n",
      "Epoch   85\ttrain loss:  0.5828\tvalid loss:  0.5863\n",
      "Epoch   86\ttrain loss:  0.5830\tvalid loss:  0.5856\n",
      "Epoch   87\ttrain loss:  0.5827\tvalid loss:  0.5868\n",
      "Epoch   88\ttrain loss:  0.5831\tvalid loss:  0.5860\n",
      "Epoch   89\ttrain loss:  0.5828\tvalid loss:  0.5863\n",
      "Epoch   90\ttrain loss:  0.5829\t\n",
      "\n",
      "\tValidation ... loss:  0.5865\n",
      "\t\tTP: 3057\tFP: 1843\tOP: 4900\n",
      "\t\tFN: 1228\tTN: 3412\tON: 4640\n",
      "\t\tCP: 4285\tCN: 5255\n",
      "\tAccuracy: 67.81%\tPrecision:  0.62\tRecall:  0.71\n",
      "\n",
      "Epoch   91\ttrain loss:  0.5820\tvalid loss:  0.5858\n",
      "Epoch   92\ttrain loss:  0.5826\tvalid loss:  0.5851\n",
      "Epoch   93\ttrain loss:  0.5822\tvalid loss:  0.5854\n",
      "Epoch   94\ttrain loss:  0.5826\tvalid loss:  0.5859\n",
      "Epoch   95\ttrain loss:  0.5826\tvalid loss:  0.5855\n",
      "Epoch   96\ttrain loss:  0.5825\tvalid loss:  0.5854\n",
      "Epoch   97\ttrain loss:  0.5828\tvalid loss:  0.5870\n",
      "Epoch   98\ttrain loss:  0.5824\tvalid loss:  0.5859\n",
      "Epoch   99\ttrain loss:  0.5822\tvalid loss:  0.5856\n",
      "Epoch  100\ttrain loss:  0.5823\t\n",
      "\n",
      "\tValidation ... loss:  0.5853\n",
      "\t\tTP: 2959\tFP: 1739\tOP: 4698\n",
      "\t\tFN: 1326\tTN: 3516\tON: 4842\n",
      "\t\tCP: 4285\tCN: 5255\n",
      "\tAccuracy: 67.87%\tPrecision:  0.63\tRecall:  0.69\n",
      "\n"
     ]
    }
   ],
   "source": [
    "linear_loss = train(linear_classifier, epochs=100)"
   ]
  },
  {
   "cell_type": "markdown",
   "metadata": {},
   "source": [
    "## Plot results"
   ]
  },
  {
   "cell_type": "markdown",
   "metadata": {},
   "source": [
    "### Training phase"
   ]
  },
  {
   "cell_type": "code",
   "execution_count": 7,
   "metadata": {},
   "outputs": [
    {
     "data": {
      "image/png": "[encoded data removed]",
      "text/plain": [
       "<Figure size 432x288 with 1 Axes>"
      ]
     },
     "metadata": {
      "needs_background": "light"
     },
     "output_type": "display_data"
    }
   ],
   "source": [
    "fig, ax = plt.subplots(nrows=1, ncols=1)\n",
    "fig.suptitle('Linear Classifier')\n",
    "ax.plot(linear_loss[0], label='train')\n",
    "ax.plot(linear_loss[1], label='valid')\n",
    "ax.set_ylabel('loss')\n",
    "ax.set_xlabel('epoch')\n",
    "ax.legend()\n",
    "\n",
    "plt.show()"
   ]
  },
  {
   "cell_type": "markdown",
   "metadata": {},
   "source": [
    "### Test the trained model"
   ]
  },
  {
   "cell_type": "code",
   "execution_count": 8,
   "metadata": {},
   "outputs": [
    {
     "name": "stdout",
     "output_type": "stream",
     "text": [
      "\n",
      "\tValidation ... loss:  0.5772\n",
      "\t\tTP: 2984\tFP: 1638\tOP: 4622\n",
      "\t\tFN: 1303\tTN: 3609\tON: 4912\n",
      "\t\tCP: 4287\tCN: 5247\n",
      "\tAccuracy: 69.15%\tPrecision:  0.65\tRecall:  0.70\n",
      "\n"
     ]
    }
   ],
   "source": [
    "loss = validate(linear_classifier, test_dataloader, verbose=True)"
   ]
  }
 ],
 "metadata": {
  "kernelspec": {
   "display_name": "Python 3",
   "language": "python",
   "name": "python3"
  },
  "language_info": {
   "codemirror_mode": {
    "name": "ipython",
    "version": 3
   },
   "file_extension": ".py",
   "mimetype": "text/x-python",
   "name": "python",
   "nbconvert_exporter": "python",
   "pygments_lexer": "ipython3",
   "version": "3.6.9"
  }
 },
 "nbformat": 4,
 "nbformat_minor": 4
}
