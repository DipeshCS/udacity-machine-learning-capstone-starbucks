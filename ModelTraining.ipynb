{
 "cells": [
  {
   "cell_type": "markdown",
   "metadata": {},
   "source": [
    "### Starbucks Capstone Challenge\n",
    "# Model Training\n",
    "\n",
    "This notebook aims to train the models proposed to classify offers as appropriate or not."
   ]
  },
  {
   "cell_type": "markdown",
   "metadata": {},
   "source": [
    "## Define functions to train the classifiers"
   ]
  },
  {
   "cell_type": "markdown",
   "metadata": {},
   "source": [
    "### Import the necessary libraries"
   ]
  },
  {
   "cell_type": "code",
   "execution_count": 1,
   "metadata": {},
   "outputs": [],
   "source": [
    "import numpy as np\n",
    "import matplotlib.pyplot as plt\n",
    "import torch\n",
    "import torch.nn as nn\n",
    "import torch.optim as optim\n",
    "\n",
    "from models import LinearNN, RecurrentNN"
   ]
  },
  {
   "cell_type": "markdown",
   "metadata": {},
   "source": [
    "### Load the datasets"
   ]
  },
  {
   "cell_type": "code",
   "execution_count": 2,
   "metadata": {},
   "outputs": [
    {
     "name": "stdout",
     "output_type": "stream",
     "text": [
      "Archive:  dataloaders.zip\r\n",
      "  inflating: dataloaders.pt          \r\n"
     ]
    }
   ],
   "source": [
    "!unzip -o dataloaders.zip\n",
    "train_dataloader, valid_dataloader, test_dataloader = \\\n",
    "    torch.load('dataloaders.pt')"
   ]
  },
  {
   "cell_type": "markdown",
   "metadata": {},
   "source": [
    "### Define validation and training loops"
   ]
  },
  {
   "cell_type": "code",
   "execution_count": 3,
   "metadata": {},
   "outputs": [],
   "source": [
    "def validate(model, dataloader=valid_dataloader, verbose=False):\n",
    "    with torch.no_grad():\n",
    "        model.eval()\n",
    "        POS, NEG = 0, 0\n",
    "        TP, TN, FP, FN = 0, 0, 0, 0\n",
    "        valid_loss = 0\n",
    "        for features, targets in dataloader:\n",
    "            targets = targets.view(-1)\n",
    "            positive = targets == 1\n",
    "            negative = ~positive\n",
    "\n",
    "            prediction = model(features)\n",
    "            prediction = prediction.view(-1,1)\n",
    "            targets = targets.view(-1,1).to(dtype=torch.float)\n",
    "            valid_loss += criterion(prediction, targets)\n",
    "\n",
    "            prediction = torch.sigmoid(prediction)\n",
    "            prediction = prediction.round()\n",
    "\n",
    "            ## Compare prediction with target POSITIVE\n",
    "            POS += positive.sum()\n",
    "            # Target TRUE, Prediction TRUE --> True Positive\n",
    "            TP += targets[positive].eq(prediction[positive]).sum()\n",
    "\n",
    "            ## Compare prediction with target NEGATIVE\n",
    "            NEG += negative.sum()\n",
    "            # Target FALSE, Prediction FALSE --> True Negative\n",
    "            TN += targets[negative].eq(prediction[negative]).sum()\n",
    "\n",
    "        FN += POS - TP # Target TRUE, Prediction FALSE --> False Negative\n",
    "        FP += NEG - TN # Target FALSE, Prediction TRUE --> False Positive\n",
    "\n",
    "        # normalize the loss\n",
    "        valid_loss /= len(dataloader)\n",
    "\n",
    "        if verbose:\n",
    "            print(f'\\tValidation ... loss: {valid_loss:7.4f}')\n",
    "            print(f'\\t\\tTP: {TP:4d}\\tFP: {FP:4d}\\tOP: {TP+FP:4d}')\n",
    "            print(f'\\t\\tFN: {FN:4d}\\tTN: {TN:4d}\\tON: {TN+FN:4d}')\n",
    "            print(f'\\t\\tCP: {POS:4d}\\tCN: {NEG:4d}')\n",
    "            print('\\tAccuracy: {:5.2f}%\\tPrecision: {:5.2f}\\tRecall: {:5.2f}'\n",
    "                  .format((TP+TN)/float(POS+NEG)*100,\n",
    "                          TP/float(TP+FP), TP/float(TP+FN)))\n",
    "\n",
    "        model.train()\n",
    "        return valid_loss"
   ]
  },
  {
   "cell_type": "code",
   "execution_count": 4,
   "metadata": {
    "scrolled": false
   },
   "outputs": [],
   "source": [
    "def train(model, model_name='classifier',\n",
    "          dataloader=train_dataloader, epochs=5000):\n",
    "    train_loss = []\n",
    "    valid_loss = []\n",
    "    min_valid_loss = np.inf\n",
    "    ## Perform N epochs of training\n",
    "    for epoch in range(1, epochs+1):\n",
    "        epoch_loss = 0\n",
    "        for batch, (features, targets) in enumerate(dataloader):\n",
    "            ## Train the network\n",
    "            optimizer.zero_grad()\n",
    "            prediction = model(features)\n",
    "            prediction = prediction.view(-1,1)\n",
    "            targets = targets.view(-1,1).to(dtype=torch.float)\n",
    "            loss = criterion(prediction, targets)\n",
    "            loss.backward()\n",
    "            optimizer.step()\n",
    "            epoch_loss += loss.item()\n",
    "\n",
    "        # Normalize the loss\n",
    "        epoch_loss /= len(dataloader)\n",
    "        train_loss.append(epoch_loss)\n",
    "        lr_scheduler.step(train_loss[-1])\n",
    "\n",
    "        if epoch % 10 == 0:\n",
    "            print('Epoch {:4d}\\ttrain loss: {:7.4f}\\t' \\\n",
    "                  .format(epoch, train_loss[-1]))\n",
    "            loss = validate(model, verbose=True)\n",
    "            valid_loss.append(loss)\n",
    "        else:\n",
    "            loss = validate(model, verbose=False)\n",
    "            valid_loss.append(loss)\n",
    "            print('Epoch {:4d}\\ttrain loss: {:7.4f}\\tvalid loss: {:7.4f}' \\\n",
    "                  .format(epoch, train_loss[-1], valid_loss[-1]))\n",
    "\n",
    "        if valid_loss[-1] < min_valid_loss:\n",
    "            torch.save(model.state_dict(), model_name+'.pt')\n",
    "\n",
    "    return train_loss, valid_loss"
   ]
  },
  {
   "cell_type": "markdown",
   "metadata": {},
   "source": [
    "## Linear Classifier\n",
    "This phase trains a feed-forward neural network to classify offer sending as appropriate or not.  \n",
    "Being a traditional classification approach, this model will be the benchmark model to compare other classification methods."
   ]
  },
  {
   "cell_type": "code",
   "execution_count": 5,
   "metadata": {},
   "outputs": [],
   "source": [
    "linear_classifier = LinearNN(input_size=16, output_size=1,\n",
    "                             hidden_layers=[128,128,128])\n",
    "criterion = nn.BCEWithLogitsLoss()\n",
    "optimizer = optim.Adam(linear_classifier.parameters(), lr=0.0001, weight_decay=0.0001)\n",
    "lr_scheduler = optim.lr_scheduler.ReduceLROnPlateau(\n",
    "    optimizer, factor=0.2, patience=20, verbose=True)"
   ]
  },
  {
   "cell_type": "code",
   "execution_count": 6,
   "metadata": {
    "scrolled": false
   },
   "outputs": [
    {
     "name": "stdout",
     "output_type": "stream",
     "text": [
      "Epoch    1\ttrain loss:  0.6512\tvalid loss:  0.6164\n",
      "Epoch    2\ttrain loss:  0.6135\tvalid loss:  0.6046\n",
      "Epoch    3\ttrain loss:  0.6074\tvalid loss:  0.6005\n",
      "Epoch    4\ttrain loss:  0.6037\tvalid loss:  0.5988\n",
      "Epoch    5\ttrain loss:  0.6011\tvalid loss:  0.5966\n",
      "Epoch    6\ttrain loss:  0.5998\tvalid loss:  0.5961\n",
      "Epoch    7\ttrain loss:  0.5988\tvalid loss:  0.5953\n",
      "Epoch    8\ttrain loss:  0.5972\tvalid loss:  0.5944\n",
      "Epoch    9\ttrain loss:  0.5973\tvalid loss:  0.5935\n",
      "Epoch   10\ttrain loss:  0.5951\t\n",
      "\tValidation ... loss:  0.5930\n",
      "\t\tTP: 2825\tFP: 1687\tOP: 4512\n",
      "\t\tFN: 1460\tTN: 3568\tON: 5028\n",
      "\t\tCP: 4285\tCN: 5255\n",
      "\tAccuracy: 67.01%\tPrecision:  0.63\tRecall:  0.66\n",
      "Epoch   11\ttrain loss:  0.5949\tvalid loss:  0.5925\n",
      "Epoch   12\ttrain loss:  0.5939\tvalid loss:  0.5915\n",
      "Epoch   13\ttrain loss:  0.5935\tvalid loss:  0.5927\n",
      "Epoch   14\ttrain loss:  0.5932\tvalid loss:  0.5915\n",
      "Epoch   15\ttrain loss:  0.5926\tvalid loss:  0.5911\n",
      "Epoch   16\ttrain loss:  0.5931\tvalid loss:  0.5905\n",
      "Epoch   17\ttrain loss:  0.5914\tvalid loss:  0.5900\n",
      "Epoch   18\ttrain loss:  0.5919\tvalid loss:  0.5899\n",
      "Epoch   19\ttrain loss:  0.5912\tvalid loss:  0.5899\n",
      "Epoch   20\ttrain loss:  0.5911\t\n",
      "\tValidation ... loss:  0.5897\n",
      "\t\tTP: 2894\tFP: 1704\tOP: 4598\n",
      "\t\tFN: 1391\tTN: 3551\tON: 4942\n",
      "\t\tCP: 4285\tCN: 5255\n",
      "\tAccuracy: 67.56%\tPrecision:  0.63\tRecall:  0.68\n",
      "Epoch   21\ttrain loss:  0.5908\tvalid loss:  0.5896\n",
      "Epoch   22\ttrain loss:  0.5906\tvalid loss:  0.5897\n",
      "Epoch   23\ttrain loss:  0.5891\tvalid loss:  0.5888\n",
      "Epoch   24\ttrain loss:  0.5894\tvalid loss:  0.5887\n",
      "Epoch   25\ttrain loss:  0.5900\tvalid loss:  0.5887\n",
      "Epoch   26\ttrain loss:  0.5887\tvalid loss:  0.5880\n",
      "Epoch   27\ttrain loss:  0.5892\tvalid loss:  0.5891\n",
      "Epoch   28\ttrain loss:  0.5888\tvalid loss:  0.5880\n",
      "Epoch   29\ttrain loss:  0.5884\tvalid loss:  0.5877\n",
      "Epoch   30\ttrain loss:  0.5886\t\n",
      "\tValidation ... loss:  0.5884\n",
      "\t\tTP: 2876\tFP: 1663\tOP: 4539\n",
      "\t\tFN: 1409\tTN: 3592\tON: 5001\n",
      "\t\tCP: 4285\tCN: 5255\n",
      "\tAccuracy: 67.80%\tPrecision:  0.63\tRecall:  0.67\n",
      "Epoch   31\ttrain loss:  0.5886\tvalid loss:  0.5882\n",
      "Epoch   32\ttrain loss:  0.5880\tvalid loss:  0.5887\n",
      "Epoch   33\ttrain loss:  0.5875\tvalid loss:  0.5881\n",
      "Epoch   34\ttrain loss:  0.5882\tvalid loss:  0.5884\n",
      "Epoch   35\ttrain loss:  0.5881\tvalid loss:  0.5886\n",
      "Epoch   36\ttrain loss:  0.5876\tvalid loss:  0.5877\n",
      "Epoch   37\ttrain loss:  0.5872\tvalid loss:  0.5876\n",
      "Epoch   38\ttrain loss:  0.5876\tvalid loss:  0.5878\n",
      "Epoch   39\ttrain loss:  0.5873\tvalid loss:  0.5873\n",
      "Epoch   40\ttrain loss:  0.5875\t\n",
      "\tValidation ... loss:  0.5879\n",
      "\t\tTP: 2964\tFP: 1750\tOP: 4714\n",
      "\t\tFN: 1321\tTN: 3505\tON: 4826\n",
      "\t\tCP: 4285\tCN: 5255\n",
      "\tAccuracy: 67.81%\tPrecision:  0.63\tRecall:  0.69\n",
      "Epoch   41\ttrain loss:  0.5871\tvalid loss:  0.5874\n",
      "Epoch   42\ttrain loss:  0.5866\tvalid loss:  0.5872\n",
      "Epoch   43\ttrain loss:  0.5868\tvalid loss:  0.5876\n",
      "Epoch   44\ttrain loss:  0.5863\tvalid loss:  0.5876\n",
      "Epoch   45\ttrain loss:  0.5859\tvalid loss:  0.5871\n",
      "Epoch   46\ttrain loss:  0.5868\tvalid loss:  0.5872\n",
      "Epoch   47\ttrain loss:  0.5860\tvalid loss:  0.5869\n",
      "Epoch   48\ttrain loss:  0.5863\tvalid loss:  0.5865\n",
      "Epoch   49\ttrain loss:  0.5865\tvalid loss:  0.5868\n",
      "Epoch   50\ttrain loss:  0.5862\t\n",
      "\tValidation ... loss:  0.5866\n",
      "\t\tTP: 3009\tFP: 1804\tOP: 4813\n",
      "\t\tFN: 1276\tTN: 3451\tON: 4727\n",
      "\t\tCP: 4285\tCN: 5255\n",
      "\tAccuracy: 67.71%\tPrecision:  0.63\tRecall:  0.70\n",
      "Epoch   51\ttrain loss:  0.5861\tvalid loss:  0.5874\n",
      "Epoch   52\ttrain loss:  0.5858\tvalid loss:  0.5863\n",
      "Epoch   53\ttrain loss:  0.5856\tvalid loss:  0.5864\n",
      "Epoch   54\ttrain loss:  0.5857\tvalid loss:  0.5869\n",
      "Epoch   55\ttrain loss:  0.5857\tvalid loss:  0.5866\n",
      "Epoch   56\ttrain loss:  0.5851\tvalid loss:  0.5873\n",
      "Epoch   57\ttrain loss:  0.5852\tvalid loss:  0.5864\n",
      "Epoch   58\ttrain loss:  0.5854\tvalid loss:  0.5869\n",
      "Epoch   59\ttrain loss:  0.5860\tvalid loss:  0.5871\n",
      "Epoch   60\ttrain loss:  0.5850\t\n",
      "\tValidation ... loss:  0.5867\n",
      "\t\tTP: 3017\tFP: 1780\tOP: 4797\n",
      "\t\tFN: 1268\tTN: 3475\tON: 4743\n",
      "\t\tCP: 4285\tCN: 5255\n",
      "\tAccuracy: 68.05%\tPrecision:  0.63\tRecall:  0.70\n",
      "Epoch   61\ttrain loss:  0.5848\tvalid loss:  0.5866\n",
      "Epoch   62\ttrain loss:  0.5849\tvalid loss:  0.5859\n",
      "Epoch   63\ttrain loss:  0.5854\tvalid loss:  0.5864\n",
      "Epoch   64\ttrain loss:  0.5851\tvalid loss:  0.5867\n",
      "Epoch   65\ttrain loss:  0.5851\tvalid loss:  0.5862\n",
      "Epoch   66\ttrain loss:  0.5849\tvalid loss:  0.5866\n",
      "Epoch   67\ttrain loss:  0.5848\tvalid loss:  0.5866\n",
      "Epoch   68\ttrain loss:  0.5848\tvalid loss:  0.5869\n",
      "Epoch   69\ttrain loss:  0.5846\tvalid loss:  0.5863\n",
      "Epoch   70\ttrain loss:  0.5845\t\n",
      "\tValidation ... loss:  0.5857\n",
      "\t\tTP: 2931\tFP: 1707\tOP: 4638\n",
      "\t\tFN: 1354\tTN: 3548\tON: 4902\n",
      "\t\tCP: 4285\tCN: 5255\n",
      "\tAccuracy: 67.91%\tPrecision:  0.63\tRecall:  0.68\n",
      "Epoch   71\ttrain loss:  0.5842\tvalid loss:  0.5866\n",
      "Epoch   72\ttrain loss:  0.5847\tvalid loss:  0.5864\n",
      "Epoch   73\ttrain loss:  0.5843\tvalid loss:  0.5864\n",
      "Epoch   74\ttrain loss:  0.5837\tvalid loss:  0.5859\n",
      "Epoch   75\ttrain loss:  0.5841\tvalid loss:  0.5860\n",
      "Epoch   76\ttrain loss:  0.5841\tvalid loss:  0.5862\n",
      "Epoch   77\ttrain loss:  0.5840\tvalid loss:  0.5858\n",
      "Epoch   78\ttrain loss:  0.5848\tvalid loss:  0.5868\n",
      "Epoch   79\ttrain loss:  0.5835\tvalid loss:  0.5862\n",
      "Epoch   80\ttrain loss:  0.5842\t\n",
      "\tValidation ... loss:  0.5865\n",
      "\t\tTP: 3022\tFP: 1800\tOP: 4822\n",
      "\t\tFN: 1263\tTN: 3455\tON: 4718\n",
      "\t\tCP: 4285\tCN: 5255\n",
      "\tAccuracy: 67.89%\tPrecision:  0.63\tRecall:  0.71\n",
      "Epoch   81\ttrain loss:  0.5834\tvalid loss:  0.5857\n",
      "Epoch   82\ttrain loss:  0.5837\tvalid loss:  0.5860\n",
      "Epoch   83\ttrain loss:  0.5840\tvalid loss:  0.5859\n",
      "Epoch   84\ttrain loss:  0.5841\tvalid loss:  0.5860\n",
      "Epoch   85\ttrain loss:  0.5836\tvalid loss:  0.5865\n",
      "Epoch   86\ttrain loss:  0.5832\tvalid loss:  0.5866\n",
      "Epoch   87\ttrain loss:  0.5833\tvalid loss:  0.5862\n",
      "Epoch   88\ttrain loss:  0.5832\tvalid loss:  0.5860\n",
      "Epoch   89\ttrain loss:  0.5835\tvalid loss:  0.5852\n",
      "Epoch   90\ttrain loss:  0.5834\t\n",
      "\tValidation ... loss:  0.5868\n",
      "\t\tTP: 2975\tFP: 1781\tOP: 4756\n",
      "\t\tFN: 1310\tTN: 3474\tON: 4784\n",
      "\t\tCP: 4285\tCN: 5255\n",
      "\tAccuracy: 67.60%\tPrecision:  0.63\tRecall:  0.69\n",
      "Epoch   91\ttrain loss:  0.5839\tvalid loss:  0.5858\n",
      "Epoch   92\ttrain loss:  0.5830\tvalid loss:  0.5860\n",
      "Epoch   93\ttrain loss:  0.5834\tvalid loss:  0.5858\n",
      "Epoch   94\ttrain loss:  0.5831\tvalid loss:  0.5864\n",
      "Epoch   95\ttrain loss:  0.5833\tvalid loss:  0.5864\n",
      "Epoch   96\ttrain loss:  0.5827\tvalid loss:  0.5854\n",
      "Epoch   97\ttrain loss:  0.5833\tvalid loss:  0.5864\n",
      "Epoch   98\ttrain loss:  0.5834\tvalid loss:  0.5855\n",
      "Epoch   99\ttrain loss:  0.5833\tvalid loss:  0.5863\n",
      "Epoch  100\ttrain loss:  0.5833\t\n",
      "\tValidation ... loss:  0.5872\n",
      "\t\tTP: 3067\tFP: 1873\tOP: 4940\n",
      "\t\tFN: 1218\tTN: 3382\tON: 4600\n",
      "\t\tCP: 4285\tCN: 5255\n",
      "\tAccuracy: 67.60%\tPrecision:  0.62\tRecall:  0.72\n"
     ]
    }
   ],
   "source": [
    "linear_loss = train(linear_classifier,\n",
    "                    model_name='linear_classifier',\n",
    "                    epochs=100)"
   ]
  },
  {
   "cell_type": "markdown",
   "metadata": {},
   "source": [
    "## Recurrent Classifier\n",
    "This phase trains a recurrent neural network to classify offer sending as appropriate or not.  \n",
    "This project proposes this model as the most suitable classification approach, considering the fact that the data is sequential."
   ]
  },
  {
   "cell_type": "code",
   "execution_count": 12,
   "metadata": {},
   "outputs": [],
   "source": [
    "recurrent_classifier = RecurrentNN(input_size=16, output_size=1,\n",
    "                                   hidden_layers=2)\n",
    "criterion = nn.BCEWithLogitsLoss()\n",
    "optimizer = optim.Adam(recurrent_classifier.parameters(), lr=0.0001, weight_decay=0.0001)\n",
    "lr_scheduler = optim.lr_scheduler.ReduceLROnPlateau(\n",
    "    optimizer, factor=0.2, patience=20, verbose=True)"
   ]
  },
  {
   "cell_type": "code",
   "execution_count": 13,
   "metadata": {
    "scrolled": false
   },
   "outputs": [
    {
     "name": "stdout",
     "output_type": "stream",
     "text": [
      "Epoch    1\ttrain loss:  0.6683\tvalid loss:  0.6530\n",
      "Epoch    2\ttrain loss:  0.6338\tvalid loss:  0.6223\n",
      "Epoch    3\ttrain loss:  0.6168\tvalid loss:  0.6145\n",
      "Epoch    4\ttrain loss:  0.6115\tvalid loss:  0.6092\n",
      "Epoch    5\ttrain loss:  0.6086\tvalid loss:  0.6082\n",
      "Epoch    6\ttrain loss:  0.6067\tvalid loss:  0.6057\n",
      "Epoch    7\ttrain loss:  0.6044\tvalid loss:  0.6028\n",
      "Epoch    8\ttrain loss:  0.6032\tvalid loss:  0.6034\n",
      "Epoch    9\ttrain loss:  0.6019\tvalid loss:  0.6013\n",
      "Epoch   10\ttrain loss:  0.6007\t\n",
      "\tValidation ... loss:  0.6006\n",
      "\t\tTP: 2769\tFP: 1671\tOP: 4440\n",
      "\t\tFN: 1516\tTN: 3584\tON: 5100\n",
      "\t\tCP: 4285\tCN: 5255\n",
      "\tAccuracy: 66.59%\tPrecision:  0.62\tRecall:  0.65\n",
      "Epoch   11\ttrain loss:  0.5996\tvalid loss:  0.5996\n",
      "Epoch   12\ttrain loss:  0.5994\tvalid loss:  0.5978\n",
      "Epoch   13\ttrain loss:  0.5985\tvalid loss:  0.5971\n",
      "Epoch   14\ttrain loss:  0.5970\tvalid loss:  0.5965\n",
      "Epoch   15\ttrain loss:  0.5969\tvalid loss:  0.5967\n",
      "Epoch   16\ttrain loss:  0.5968\tvalid loss:  0.5958\n",
      "Epoch   17\ttrain loss:  0.5960\tvalid loss:  0.5961\n",
      "Epoch   18\ttrain loss:  0.5952\tvalid loss:  0.5944\n",
      "Epoch   19\ttrain loss:  0.5953\tvalid loss:  0.5944\n",
      "Epoch   20\ttrain loss:  0.5948\t\n",
      "\tValidation ... loss:  0.5940\n",
      "\t\tTP: 2694\tFP: 1539\tOP: 4233\n",
      "\t\tFN: 1591\tTN: 3716\tON: 5307\n",
      "\t\tCP: 4285\tCN: 5255\n",
      "\tAccuracy: 67.19%\tPrecision:  0.64\tRecall:  0.63\n",
      "Epoch   21\ttrain loss:  0.5948\tvalid loss:  0.5933\n",
      "Epoch   22\ttrain loss:  0.5938\tvalid loss:  0.5943\n",
      "Epoch   23\ttrain loss:  0.5941\tvalid loss:  0.5934\n",
      "Epoch   24\ttrain loss:  0.5937\tvalid loss:  0.5934\n",
      "Epoch   25\ttrain loss:  0.5933\tvalid loss:  0.5929\n",
      "Epoch   26\ttrain loss:  0.5932\tvalid loss:  0.5923\n",
      "Epoch   27\ttrain loss:  0.5925\tvalid loss:  0.5927\n",
      "Epoch   28\ttrain loss:  0.5924\tvalid loss:  0.5925\n",
      "Epoch   29\ttrain loss:  0.5919\tvalid loss:  0.5923\n",
      "Epoch   30\ttrain loss:  0.5924\t\n",
      "\tValidation ... loss:  0.5921\n",
      "\t\tTP: 2667\tFP: 1511\tOP: 4178\n",
      "\t\tFN: 1618\tTN: 3744\tON: 5362\n",
      "\t\tCP: 4285\tCN: 5255\n",
      "\tAccuracy: 67.20%\tPrecision:  0.64\tRecall:  0.62\n",
      "Epoch   31\ttrain loss:  0.5920\tvalid loss:  0.5923\n",
      "Epoch   32\ttrain loss:  0.5917\tvalid loss:  0.5914\n",
      "Epoch   33\ttrain loss:  0.5920\tvalid loss:  0.5918\n",
      "Epoch   34\ttrain loss:  0.5914\tvalid loss:  0.5911\n",
      "Epoch   35\ttrain loss:  0.5912\tvalid loss:  0.5911\n",
      "Epoch   36\ttrain loss:  0.5909\tvalid loss:  0.5907\n",
      "Epoch   37\ttrain loss:  0.5916\tvalid loss:  0.5904\n",
      "Epoch   38\ttrain loss:  0.5909\tvalid loss:  0.5902\n",
      "Epoch   39\ttrain loss:  0.5907\tvalid loss:  0.5913\n",
      "Epoch   40\ttrain loss:  0.5906\t\n",
      "\tValidation ... loss:  0.5919\n",
      "\t\tTP: 2810\tFP: 1642\tOP: 4452\n",
      "\t\tFN: 1475\tTN: 3613\tON: 5088\n",
      "\t\tCP: 4285\tCN: 5255\n",
      "\tAccuracy: 67.33%\tPrecision:  0.63\tRecall:  0.66\n",
      "Epoch   41\ttrain loss:  0.5904\tvalid loss:  0.5903\n",
      "Epoch   42\ttrain loss:  0.5904\tvalid loss:  0.5901\n",
      "Epoch   43\ttrain loss:  0.5900\tvalid loss:  0.5902\n",
      "Epoch   44\ttrain loss:  0.5907\tvalid loss:  0.5913\n",
      "Epoch   45\ttrain loss:  0.5902\tvalid loss:  0.5901\n",
      "Epoch   46\ttrain loss:  0.5897\tvalid loss:  0.5911\n",
      "Epoch   47\ttrain loss:  0.5891\tvalid loss:  0.5905\n",
      "Epoch   48\ttrain loss:  0.5900\tvalid loss:  0.5902\n",
      "Epoch   49\ttrain loss:  0.5894\tvalid loss:  0.5899\n",
      "Epoch   50\ttrain loss:  0.5890\t\n",
      "\tValidation ... loss:  0.5901\n",
      "\t\tTP: 2640\tFP: 1467\tOP: 4107\n",
      "\t\tFN: 1645\tTN: 3788\tON: 5433\n",
      "\t\tCP: 4285\tCN: 5255\n",
      "\tAccuracy: 67.38%\tPrecision:  0.64\tRecall:  0.62\n",
      "Epoch   51\ttrain loss:  0.5890\tvalid loss:  0.5892\n",
      "Epoch   52\ttrain loss:  0.5883\tvalid loss:  0.5900\n",
      "Epoch   53\ttrain loss:  0.5890\tvalid loss:  0.5901\n",
      "Epoch   54\ttrain loss:  0.5890\tvalid loss:  0.5899\n",
      "Epoch   55\ttrain loss:  0.5893\tvalid loss:  0.5903\n",
      "Epoch   56\ttrain loss:  0.5886\tvalid loss:  0.5901\n",
      "Epoch   57\ttrain loss:  0.5882\tvalid loss:  0.5895\n",
      "Epoch   58\ttrain loss:  0.5886\tvalid loss:  0.5897\n",
      "Epoch   59\ttrain loss:  0.5890\tvalid loss:  0.5898\n",
      "Epoch   60\ttrain loss:  0.5889\t\n",
      "\tValidation ... loss:  0.5900\n",
      "\t\tTP: 2689\tFP: 1535\tOP: 4224\n",
      "\t\tFN: 1596\tTN: 3720\tON: 5316\n",
      "\t\tCP: 4285\tCN: 5255\n",
      "\tAccuracy: 67.18%\tPrecision:  0.64\tRecall:  0.63\n",
      "Epoch   61\ttrain loss:  0.5882\tvalid loss:  0.5892\n",
      "Epoch   62\ttrain loss:  0.5880\tvalid loss:  0.5884\n",
      "Epoch   63\ttrain loss:  0.5878\tvalid loss:  0.5887\n",
      "Epoch   64\ttrain loss:  0.5875\tvalid loss:  0.5891\n",
      "Epoch   65\ttrain loss:  0.5875\tvalid loss:  0.5893\n",
      "Epoch   66\ttrain loss:  0.5886\tvalid loss:  0.5889\n",
      "Epoch   67\ttrain loss:  0.5877\tvalid loss:  0.5894\n",
      "Epoch   68\ttrain loss:  0.5868\tvalid loss:  0.5896\n",
      "Epoch   69\ttrain loss:  0.5875\tvalid loss:  0.5895\n",
      "Epoch   70\ttrain loss:  0.5873\t\n",
      "\tValidation ... loss:  0.5888\n",
      "\t\tTP: 2687\tFP: 1519\tOP: 4206\n",
      "\t\tFN: 1598\tTN: 3736\tON: 5334\n",
      "\t\tCP: 4285\tCN: 5255\n",
      "\tAccuracy: 67.33%\tPrecision:  0.64\tRecall:  0.63\n",
      "Epoch   71\ttrain loss:  0.5878\tvalid loss:  0.5883\n",
      "Epoch   72\ttrain loss:  0.5869\tvalid loss:  0.5885\n",
      "Epoch   73\ttrain loss:  0.5880\tvalid loss:  0.5897\n",
      "Epoch   74\ttrain loss:  0.5872\tvalid loss:  0.5878\n",
      "Epoch   75\ttrain loss:  0.5871\tvalid loss:  0.5885\n",
      "Epoch   76\ttrain loss:  0.5869\tvalid loss:  0.5884\n",
      "Epoch   77\ttrain loss:  0.5867\tvalid loss:  0.5883\n",
      "Epoch   78\ttrain loss:  0.5869\tvalid loss:  0.5878\n",
      "Epoch   79\ttrain loss:  0.5869\tvalid loss:  0.5881\n",
      "Epoch   80\ttrain loss:  0.5861\t\n",
      "\tValidation ... loss:  0.5880\n",
      "\t\tTP: 2643\tFP: 1453\tOP: 4096\n",
      "\t\tFN: 1642\tTN: 3802\tON: 5444\n",
      "\t\tCP: 4285\tCN: 5255\n",
      "\tAccuracy: 67.56%\tPrecision:  0.65\tRecall:  0.62\n",
      "Epoch   81\ttrain loss:  0.5871\tvalid loss:  0.5884\n",
      "Epoch   82\ttrain loss:  0.5864\tvalid loss:  0.5884\n",
      "Epoch   83\ttrain loss:  0.5864\tvalid loss:  0.5875\n",
      "Epoch   84\ttrain loss:  0.5861\tvalid loss:  0.5882\n",
      "Epoch   85\ttrain loss:  0.5861\tvalid loss:  0.5881\n",
      "Epoch   86\ttrain loss:  0.5863\tvalid loss:  0.5878\n",
      "Epoch   87\ttrain loss:  0.5863\tvalid loss:  0.5880\n",
      "Epoch   88\ttrain loss:  0.5856\tvalid loss:  0.5890\n",
      "Epoch   89\ttrain loss:  0.5859\tvalid loss:  0.5874\n",
      "Epoch   90\ttrain loss:  0.5859\t\n",
      "\tValidation ... loss:  0.5879\n",
      "\t\tTP: 2715\tFP: 1531\tOP: 4246\n",
      "\t\tFN: 1570\tTN: 3724\tON: 5294\n",
      "\t\tCP: 4285\tCN: 5255\n",
      "\tAccuracy: 67.49%\tPrecision:  0.64\tRecall:  0.63\n",
      "Epoch   91\ttrain loss:  0.5854\tvalid loss:  0.5883\n",
      "Epoch   92\ttrain loss:  0.5856\tvalid loss:  0.5880\n",
      "Epoch   93\ttrain loss:  0.5851\tvalid loss:  0.5876\n",
      "Epoch   94\ttrain loss:  0.5859\tvalid loss:  0.5872\n",
      "Epoch   95\ttrain loss:  0.5856\tvalid loss:  0.5877\n",
      "Epoch   96\ttrain loss:  0.5848\tvalid loss:  0.5884\n",
      "Epoch   97\ttrain loss:  0.5849\tvalid loss:  0.5885\n",
      "Epoch   98\ttrain loss:  0.5854\tvalid loss:  0.5885\n",
      "Epoch   99\ttrain loss:  0.5846\tvalid loss:  0.5881\n",
      "Epoch  100\ttrain loss:  0.5850\t\n",
      "\tValidation ... loss:  0.5877\n",
      "\t\tTP: 2633\tFP: 1451\tOP: 4084\n",
      "\t\tFN: 1652\tTN: 3804\tON: 5456\n",
      "\t\tCP: 4285\tCN: 5255\n",
      "\tAccuracy: 67.47%\tPrecision:  0.64\tRecall:  0.61\n"
     ]
    }
   ],
   "source": [
    "recurrent_loss = train(recurrent_classifier,\n",
    "                       model_name='recurrent_classifier',\n",
    "                       epochs=100)"
   ]
  },
  {
   "cell_type": "markdown",
   "metadata": {},
   "source": [
    "## Results"
   ]
  },
  {
   "cell_type": "markdown",
   "metadata": {},
   "source": [
    "### Training phase"
   ]
  },
  {
   "cell_type": "code",
   "execution_count": 14,
   "metadata": {},
   "outputs": [
    {
     "data": {
      "image/png": "[encoded data removed]",
      "text/plain": [
       "<Figure size 1080x288 with 2 Axes>"
      ]
     },
     "metadata": {
      "needs_background": "light"
     },
     "output_type": "display_data"
    }
   ],
   "source": [
    "fig, (ax0, ax1) = plt.subplots(\n",
    "    figsize=(15,4), nrows=1, ncols=2, sharey=True)\n",
    "\n",
    "ax0.plot(linear_loss[0], label='train')\n",
    "ax0.plot(linear_loss[1], label='valid')\n",
    "ax0.set_title('Linear Classifier')\n",
    "ax0.set_ylabel('loss')\n",
    "ax0.set_xlabel('epoch')\n",
    "ax0.legend()\n",
    "\n",
    "ax1.plot(recurrent_loss[0], label='train')\n",
    "ax1.plot(recurrent_loss[1], label='valid')\n",
    "ax1.set_title('Recurrent Classifier')\n",
    "ax1.set_ylabel('loss')\n",
    "ax1.set_xlabel('epoch')\n",
    "ax1.legend()\n",
    "ax1.tick_params(reset=True)\n",
    "\n",
    "plt.show()"
   ]
  },
  {
   "cell_type": "markdown",
   "metadata": {},
   "source": [
    "### Testing the trained models"
   ]
  },
  {
   "cell_type": "code",
   "execution_count": 15,
   "metadata": {},
   "outputs": [
    {
     "name": "stdout",
     "output_type": "stream",
     "text": [
      "Models loaded successfully\n"
     ]
    }
   ],
   "source": [
    "## Load the saved models\n",
    "\n",
    "# Linear\n",
    "linear_classifier.load_state_dict(\n",
    "    torch.load('linear_classifier.pt'))\n",
    "\n",
    "# Recurrent\n",
    "recurrent_classifier.load_state_dict(\n",
    "    torch.load('recurrent_classifier.pt'))\n",
    "\n",
    "print('Models loaded successfully')"
   ]
  },
  {
   "cell_type": "code",
   "execution_count": 16,
   "metadata": {},
   "outputs": [
    {
     "name": "stdout",
     "output_type": "stream",
     "text": [
      "Linear Classifier\n",
      "\tValidation ... loss:  0.5791\n",
      "\t\tTP: 3123\tFP: 1782\tOP: 4905\n",
      "\t\tFN: 1164\tTN: 3465\tON: 4629\n",
      "\t\tCP: 4287\tCN: 5247\n",
      "\tAccuracy: 69.10%\tPrecision:  0.64\tRecall:  0.73\n",
      "\n",
      "Recurrent Classifier\n",
      "\tValidation ... loss:  0.5783\n",
      "\t\tTP: 2656\tFP: 1375\tOP: 4031\n",
      "\t\tFN: 1631\tTN: 3872\tON: 5503\n",
      "\t\tCP: 4287\tCN: 5247\n",
      "\tAccuracy: 68.47%\tPrecision:  0.66\tRecall:  0.62\n"
     ]
    }
   ],
   "source": [
    "## Test models\n",
    "\n",
    "print('Linear Classifier')\n",
    "loss = validate(linear_classifier, test_dataloader, verbose=True)\n",
    "\n",
    "print('\\nRecurrent Classifier')\n",
    "loss = validate(recurrent_classifier, test_dataloader, verbose=True)"
   ]
  },
  {
   "cell_type": "code",
   "execution_count": null,
   "metadata": {},
   "outputs": [],
   "source": []
  }
 ],
 "metadata": {
  "kernelspec": {
   "display_name": "Python 3",
   "language": "python",
   "name": "python3"
  },
  "language_info": {
   "codemirror_mode": {
    "name": "ipython",
    "version": 3
   },
   "file_extension": ".py",
   "mimetype": "text/x-python",
   "name": "python",
   "nbconvert_exporter": "python",
   "pygments_lexer": "ipython3",
   "version": "3.6.9"
  }
 },
 "nbformat": 4,
 "nbformat_minor": 4
}
