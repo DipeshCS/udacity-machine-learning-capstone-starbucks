{
 "cells": [
  {
   "cell_type": "markdown",
   "metadata": {},
   "source": [
    "### Starbucks Capstone Challenge\n",
    "# Model Training\n",
    "\n",
    "This notebook aims to train the models proposed to classify offers as appropriate or not."
   ]
  },
  {
   "cell_type": "markdown",
   "metadata": {},
   "source": [
    "## Define functions to train the classifiers"
   ]
  },
  {
   "cell_type": "markdown",
   "metadata": {},
   "source": [
    "### Import the necessary libraries"
   ]
  },
  {
   "cell_type": "code",
   "execution_count": 1,
   "metadata": {},
   "outputs": [],
   "source": [
    "import numpy as np\n",
    "import matplotlib.pyplot as plt\n",
    "import pandas as pd\n",
    "import sklearn.metrics as metrics\n",
    "import torch\n",
    "import torch.nn as nn\n",
    "import torch.optim as optim\n",
    "\n",
    "from models import LinearNN, RecurrentNN"
   ]
  },
  {
   "cell_type": "markdown",
   "metadata": {},
   "source": [
    "### Load the datasets"
   ]
  },
  {
   "cell_type": "code",
   "execution_count": 2,
   "metadata": {},
   "outputs": [
    {
     "name": "stdout",
     "output_type": "stream",
     "text": [
      "Archive:  dataloaders.zip\r\n",
      "  inflating: dataloaders.pt          \r\n"
     ]
    }
   ],
   "source": [
    "!unzip -o dataloaders.zip\n",
    "train_dataloader, valid_dataloader, test_dataloader = \\\n",
    "    torch.load('dataloaders.pt')"
   ]
  },
  {
   "cell_type": "markdown",
   "metadata": {},
   "source": [
    "### Define validation and training loops"
   ]
  },
  {
   "cell_type": "code",
   "execution_count": 17,
   "metadata": {},
   "outputs": [],
   "source": [
    "def validate(model, dataloader=valid_dataloader):\n",
    "    with torch.no_grad():\n",
    "        model.eval()\n",
    "        valid_loss = 0\n",
    "        y_true = []\n",
    "        y_pred = []\n",
    "        for features, targets in dataloader:\n",
    "            prediction = model(features)\n",
    "            \n",
    "            prediction = prediction.view(-1,2)\n",
    "            targets = targets.view(-1)\n",
    "            valid_loss += criterion(prediction, targets)\n",
    "\n",
    "            prediction = torch.softmax(prediction, dim=1)\n",
    "            _, prediction = prediction.topk(1, dim=1)\n",
    "            prediction = prediction.squeeze()\n",
    "\n",
    "            y_pred.extend(prediction.view(-1))\n",
    "            y_true.extend(targets.view(-1))\n",
    "\n",
    "        # normalize the loss\n",
    "        valid_loss /= len(dataloader)\n",
    "        valid_loss = valid_loss.item()\n",
    "\n",
    "        # Calculate the metrics\n",
    "        accuracy = metrics.accuracy_score(y_true, y_pred)\n",
    "        c_matrix = metrics.confusion_matrix(y_true, y_pred)\n",
    "        precision = metrics.precision_score(y_true, y_pred)\n",
    "        recall = metrics.recall_score(y_true, y_pred)\n",
    "\n",
    "        model.train()\n",
    "\n",
    "        return valid_loss, accuracy, precision, \\\n",
    "               recall, c_matrix"
   ]
  },
  {
   "cell_type": "code",
   "execution_count": 4,
   "metadata": {
    "scrolled": false
   },
   "outputs": [],
   "source": [
    "def train(model, model_name='classifier',\n",
    "          dataloader=train_dataloader, epochs=5000):\n",
    "    train_loss = []\n",
    "    valid_loss = []\n",
    "    min_valid_loss = np.inf\n",
    "    ## Perform N epochs of training\n",
    "    for epoch in range(1, epochs+1):\n",
    "        epoch_loss = 0\n",
    "        for batch, (features, targets) in enumerate(dataloader):\n",
    "            ## Train the network\n",
    "            optimizer.zero_grad()\n",
    "            prediction = model(features)\n",
    "            prediction = prediction.view(-1,2)\n",
    "            targets = targets.view(-1)\n",
    "            loss = criterion(prediction, targets)\n",
    "            loss.backward()\n",
    "            optimizer.step()\n",
    "            epoch_loss += loss.item()\n",
    "\n",
    "        # Normalize the training loss\n",
    "        epoch_loss /= len(dataloader)\n",
    "        train_loss.append(epoch_loss)\n",
    "        \n",
    "        # LR scheduler step\n",
    "        lr_scheduler.step(train_loss[-1])\n",
    "\n",
    "        # Validate\n",
    "        metrics = validate(model)\n",
    "        valid_loss.append(metrics[0])\n",
    "        print('Epoch {:4d}\\ttrain loss: {:7.4f}\\tvalid loss: {:7.4f}' \\\n",
    "              .format(epoch, train_loss[-1], valid_loss[-1]))\n",
    "\n",
    "        # Save the model if valid_loss has decreased\n",
    "        if valid_loss[-1] < min_valid_loss:\n",
    "            min_valid_loss = valid_loss[-1]\n",
    "            torch.save(model.state_dict(), model_name+'.pt')\n",
    "\n",
    "    return train_loss, valid_loss"
   ]
  },
  {
   "cell_type": "markdown",
   "metadata": {},
   "source": [
    "## Linear Classifier\n",
    "This phase trains a feed-forward neural network to classify offer sending as appropriate or not.  \n",
    "Being a traditional classification approach, this model will be the benchmark model to compare other classification methods."
   ]
  },
  {
   "cell_type": "code",
   "execution_count": 5,
   "metadata": {},
   "outputs": [],
   "source": [
    "linear_classifier = LinearNN(\n",
    "    input_size=16, output_size=2, hidden_layers=[128,128,128])\n",
    "criterion = nn.CrossEntropyLoss(\n",
    "    torch.tensor([(42200. / 34072.), 1.]))\n",
    "optimizer = optim.Adam(\n",
    "    linear_classifier.parameters(), lr=0.0001, weight_decay=0.0001)\n",
    "lr_scheduler = optim.lr_scheduler.ReduceLROnPlateau(\n",
    "    optimizer, factor=0.2, patience=20, verbose=True)"
   ]
  },
  {
   "cell_type": "code",
   "execution_count": 6,
   "metadata": {
    "scrolled": false
   },
   "outputs": [
    {
     "name": "stdout",
     "output_type": "stream",
     "text": [
      "Epoch    1\ttrain loss:  0.6339\tvalid loss:  0.6037\n",
      "Epoch    2\ttrain loss:  0.5999\tvalid loss:  0.5924\n",
      "Epoch    3\ttrain loss:  0.5942\tvalid loss:  0.5876\n",
      "Epoch    4\ttrain loss:  0.5896\tvalid loss:  0.5848\n",
      "Epoch    5\ttrain loss:  0.5878\tvalid loss:  0.5832\n",
      "Epoch    6\ttrain loss:  0.5858\tvalid loss:  0.5830\n",
      "Epoch    7\ttrain loss:  0.5845\tvalid loss:  0.5818\n",
      "Epoch    8\ttrain loss:  0.5841\tvalid loss:  0.5809\n",
      "Epoch    9\ttrain loss:  0.5828\tvalid loss:  0.5805\n",
      "Epoch   10\ttrain loss:  0.5822\tvalid loss:  0.5795\n",
      "Epoch   11\ttrain loss:  0.5819\tvalid loss:  0.5792\n",
      "Epoch   12\ttrain loss:  0.5814\tvalid loss:  0.5790\n",
      "Epoch   13\ttrain loss:  0.5805\tvalid loss:  0.5784\n",
      "Epoch   14\ttrain loss:  0.5800\tvalid loss:  0.5787\n",
      "Epoch   15\ttrain loss:  0.5798\tvalid loss:  0.5786\n",
      "Epoch   16\ttrain loss:  0.5789\tvalid loss:  0.5781\n",
      "Epoch   17\ttrain loss:  0.5791\tvalid loss:  0.5777\n",
      "Epoch   18\ttrain loss:  0.5790\tvalid loss:  0.5776\n",
      "Epoch   19\ttrain loss:  0.5780\tvalid loss:  0.5773\n",
      "Epoch   20\ttrain loss:  0.5775\tvalid loss:  0.5776\n"
     ]
    }
   ],
   "source": [
    "linear_loss = train(linear_classifier,\n",
    "                    model_name='linear_classifier',\n",
    "                    epochs=20)"
   ]
  },
  {
   "cell_type": "markdown",
   "metadata": {},
   "source": [
    "## Recurrent Classifier\n",
    "This phase trains a recurrent neural network to classify offer sending as appropriate or not.  \n",
    "This project proposes this model as the most suitable classification approach, considering the fact that the data is sequential."
   ]
  },
  {
   "cell_type": "code",
   "execution_count": 7,
   "metadata": {},
   "outputs": [],
   "source": [
    "recurrent_classifier = RecurrentNN(\n",
    "    input_size=16, output_size=2, hidden_size=128, hidden_layers=2)\n",
    "criterion = nn.CrossEntropyLoss(\n",
    "    torch.tensor([(42200. / 34072.), 1.]))\n",
    "optimizer = optim.Adam(\n",
    "    recurrent_classifier.parameters(), lr=0.0001, weight_decay=0.0001)\n",
    "lr_scheduler = optim.lr_scheduler.ReduceLROnPlateau(\n",
    "    optimizer, factor=0.2, patience=20, verbose=True)"
   ]
  },
  {
   "cell_type": "code",
   "execution_count": 8,
   "metadata": {
    "scrolled": false
   },
   "outputs": [
    {
     "name": "stdout",
     "output_type": "stream",
     "text": [
      "Epoch    1\ttrain loss:  0.6623\tvalid loss:  0.6510\n",
      "Epoch    2\ttrain loss:  0.6406\tvalid loss:  0.6336\n",
      "Epoch    3\ttrain loss:  0.6168\tvalid loss:  0.6078\n",
      "Epoch    4\ttrain loss:  0.6019\tvalid loss:  0.6001\n",
      "Epoch    5\ttrain loss:  0.5966\tvalid loss:  0.5976\n",
      "Epoch    6\ttrain loss:  0.5940\tvalid loss:  0.5941\n",
      "Epoch    7\ttrain loss:  0.5920\tvalid loss:  0.5930\n",
      "Epoch    8\ttrain loss:  0.5907\tvalid loss:  0.5910\n",
      "Epoch    9\ttrain loss:  0.5894\tvalid loss:  0.5909\n",
      "Epoch   10\ttrain loss:  0.5882\tvalid loss:  0.5892\n",
      "Epoch   11\ttrain loss:  0.5880\tvalid loss:  0.5881\n",
      "Epoch   12\ttrain loss:  0.5872\tvalid loss:  0.5882\n",
      "Epoch   13\ttrain loss:  0.5863\tvalid loss:  0.5870\n",
      "Epoch   14\ttrain loss:  0.5860\tvalid loss:  0.5885\n",
      "Epoch   15\ttrain loss:  0.5856\tvalid loss:  0.5862\n",
      "Epoch   16\ttrain loss:  0.5852\tvalid loss:  0.5862\n",
      "Epoch   17\ttrain loss:  0.5850\tvalid loss:  0.5865\n",
      "Epoch   18\ttrain loss:  0.5848\tvalid loss:  0.5858\n",
      "Epoch   19\ttrain loss:  0.5839\tvalid loss:  0.5845\n",
      "Epoch   20\ttrain loss:  0.5834\tvalid loss:  0.5849\n"
     ]
    }
   ],
   "source": [
    "recurrent_loss = train(recurrent_classifier,\n",
    "                       model_name='recurrent_classifier',\n",
    "                       epochs=20)"
   ]
  },
  {
   "cell_type": "markdown",
   "metadata": {},
   "source": [
    "## Results"
   ]
  },
  {
   "cell_type": "markdown",
   "metadata": {},
   "source": [
    "### Training phase"
   ]
  },
  {
   "cell_type": "code",
   "execution_count": 9,
   "metadata": {},
   "outputs": [
    {
     "data": {
      "image/png": "[encoded data removed]",
      "text/plain": [
       "<Figure size 1080x288 with 2 Axes>"
      ]
     },
     "metadata": {
      "needs_background": "light"
     },
     "output_type": "display_data"
    }
   ],
   "source": [
    "fig, (ax0, ax1) = plt.subplots(\n",
    "    figsize=(15,4), nrows=1, ncols=2, sharey=True)\n",
    "\n",
    "ax0.plot(linear_loss[0], label='train')\n",
    "ax0.plot(linear_loss[1], label='valid')\n",
    "ax0.set_title('Linear Classifier')\n",
    "ax0.set_ylabel('loss')\n",
    "ax0.set_xlabel('epoch')\n",
    "ax0.legend()\n",
    "\n",
    "ax1.plot(recurrent_loss[0], label='train')\n",
    "ax1.plot(recurrent_loss[1], label='valid')\n",
    "ax1.set_title('Recurrent Classifier')\n",
    "ax1.set_ylabel('loss')\n",
    "ax1.set_xlabel('epoch')\n",
    "ax1.legend()\n",
    "ax1.tick_params(reset=True)\n",
    "\n",
    "plt.show()"
   ]
  },
  {
   "cell_type": "markdown",
   "metadata": {},
   "source": [
    "### Testing the trained models"
   ]
  },
  {
   "cell_type": "code",
   "execution_count": 10,
   "metadata": {},
   "outputs": [
    {
     "name": "stdout",
     "output_type": "stream",
     "text": [
      "Models loaded successfully\n"
     ]
    }
   ],
   "source": [
    "## Load the saved models\n",
    "\n",
    "# Linear\n",
    "linear_classifier.load_state_dict(\n",
    "    torch.load('linear_classifier.pt'))\n",
    "\n",
    "# Recurrent\n",
    "recurrent_classifier.load_state_dict(\n",
    "    torch.load('recurrent_classifier.pt'))\n",
    "\n",
    "print('Models loaded successfully')"
   ]
  },
  {
   "cell_type": "code",
   "execution_count": 19,
   "metadata": {},
   "outputs": [],
   "source": [
    "## Test models\n",
    "\n",
    "l_loss, l_acc, l_prec, l_rec, l_cmatrix = \\\n",
    "    validate(linear_classifier, test_dataloader)\n",
    "\n",
    "r_loss, r_acc, r_prec, r_rec, r_cmatrix = \\\n",
    "    validate(recurrent_classifier, test_dataloader)"
   ]
  },
  {
   "cell_type": "markdown",
   "metadata": {},
   "source": [
    "### Plot the test results"
   ]
  },
  {
   "cell_type": "code",
   "execution_count": 13,
   "metadata": {},
   "outputs": [],
   "source": [
    "def build_cmatrix(c_matrix, ax):\n",
    "    ax.matshow(c_matrix, cmap='YlGn')\n",
    "    ax.set_xlabel('Confusion Matrix')\n",
    "    ax.text(0, 0, f'TN\\n{c_matrix[0,0]}',\n",
    "            ha=\"center\", va=\"center\", color=\"w\")\n",
    "    ax.text(0, 1, f'FP\\n{c_matrix[0,1]}',\n",
    "            ha=\"center\", va=\"center\", color=\"k\")\n",
    "    ax.text(1, 0, f'FN\\n{c_matrix[1,0]}',\n",
    "            ha=\"center\", va=\"center\", color=\"k\")\n",
    "    ax.text(1, 1, f'TP\\n{c_matrix[1,1]}',\n",
    "            ha=\"center\", va=\"center\", color=\"k\")"
   ]
  },
  {
   "cell_type": "code",
   "execution_count": 21,
   "metadata": {},
   "outputs": [
    {
     "data": {
      "text/html": [
       "<div>\n",
       "<style scoped>\n",
       "    .dataframe tbody tr th:only-of-type {\n",
       "        vertical-align: middle;\n",
       "    }\n",
       "\n",
       "    .dataframe tbody tr th {\n",
       "        vertical-align: top;\n",
       "    }\n",
       "\n",
       "    .dataframe thead th {\n",
       "        text-align: right;\n",
       "    }\n",
       "</style>\n",
       "<table border=\"1\" class=\"dataframe\">\n",
       "  <thead>\n",
       "    <tr style=\"text-align: right;\">\n",
       "      <th></th>\n",
       "      <th>Linear Classifier</th>\n",
       "      <th>Recurrent Classifier</th>\n",
       "    </tr>\n",
       "  </thead>\n",
       "  <tbody>\n",
       "    <tr>\n",
       "      <th>accuracy (%)</th>\n",
       "      <td>67.74%</td>\n",
       "      <td>66.80%</td>\n",
       "    </tr>\n",
       "    <tr>\n",
       "      <th>precision</th>\n",
       "      <td>0.6785</td>\n",
       "      <td>0.6728</td>\n",
       "    </tr>\n",
       "    <tr>\n",
       "      <th>recall</th>\n",
       "      <td>0.537</td>\n",
       "      <td>0.5094</td>\n",
       "    </tr>\n",
       "    <tr>\n",
       "      <th>loss</th>\n",
       "      <td>0.5695</td>\n",
       "      <td>0.5764</td>\n",
       "    </tr>\n",
       "  </tbody>\n",
       "</table>\n",
       "</div>"
      ],
      "text/plain": [
       "             Linear Classifier Recurrent Classifier\n",
       "accuracy (%)            67.74%               66.80%\n",
       "precision               0.6785               0.6728\n",
       "recall                   0.537               0.5094\n",
       "loss                    0.5695               0.5764"
      ]
     },
     "metadata": {},
     "output_type": "display_data"
    },
    {
     "data": {
      "image/png": "[encoded data removed]",
      "text/plain": [
       "<Figure size 432x288 with 2 Axes>"
      ]
     },
     "metadata": {
      "needs_background": "light"
     },
     "output_type": "display_data"
    }
   ],
   "source": [
    "# Build the confusion matrix\n",
    "fig, axs = plt.subplots(nrows=1, ncols=2)\n",
    "\n",
    "build_cmatrix(l_cmatrix, axs[0])\n",
    "axs[0].set_title('Linear Classifier\\n')\n",
    "\n",
    "build_cmatrix(r_cmatrix, axs[1])\n",
    "axs[1].set_title('Recurrent Classifier\\n')\n",
    "\n",
    "# Table of results\n",
    "result_df = pd.DataFrame(\n",
    "    [[f'{l_acc*100:.2f}%', l_prec, l_rec, l_loss],\n",
    "     [f'{r_acc*100:.2f}%', r_prec, r_rec, r_loss]],\n",
    "    columns=['accuracy (%)', 'precision', 'recall', 'loss'],\n",
    "    index=['Linear Classifier',\n",
    "         'Recurrent Classifier']).T\n",
    "\n",
    "# Display results\n",
    "pd.set_option('display.precision', 4)\n",
    "display(result_df)\n",
    "plt.show()"
   ]
  }
 ],
 "metadata": {
  "kernelspec": {
   "display_name": "Python 3",
   "language": "python",
   "name": "python3"
  },
  "language_info": {
   "codemirror_mode": {
    "name": "ipython",
    "version": 3
   },
   "file_extension": ".py",
   "mimetype": "text/x-python",
   "name": "python",
   "nbconvert_exporter": "python",
   "pygments_lexer": "ipython3",
   "version": "3.6.9"
  }
 },
 "nbformat": 4,
 "nbformat_minor": 4
}
