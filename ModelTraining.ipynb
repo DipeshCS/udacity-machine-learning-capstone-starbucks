{
 "cells": [
  {
   "cell_type": "markdown",
   "metadata": {},
   "source": [
    "### Starbucks Capstone Challenge\n",
    "# Model Training\n",
    "\n",
    "This notebook aims to train the models proposed to classify offers as appropriate or not."
   ]
  },
  {
   "cell_type": "markdown",
   "metadata": {},
   "source": [
    "## Define functions to train the classifiers"
   ]
  },
  {
   "cell_type": "markdown",
   "metadata": {},
   "source": [
    "### Import the necessary libraries"
   ]
  },
  {
   "cell_type": "code",
   "execution_count": 1,
   "metadata": {},
   "outputs": [],
   "source": [
    "import numpy as np\n",
    "import matplotlib.pyplot as plt\n",
    "import torch\n",
    "import torch.nn as nn\n",
    "import torch.optim as optim\n",
    "\n",
    "from models import LinearNN, RecurrentNN"
   ]
  },
  {
   "cell_type": "markdown",
   "metadata": {},
   "source": [
    "### Load the datasets"
   ]
  },
  {
   "cell_type": "code",
   "execution_count": 2,
   "metadata": {},
   "outputs": [
    {
     "name": "stdout",
     "output_type": "stream",
     "text": [
      "Archive:  dataloaders.zip\r\n",
      "  inflating: dataloaders.pt          \r\n"
     ]
    }
   ],
   "source": [
    "!unzip -o dataloaders.zip\n",
    "train_dataloader, valid_dataloader, test_dataloader = \\\n",
    "    torch.load('dataloaders.pt')"
   ]
  },
  {
   "cell_type": "markdown",
   "metadata": {},
   "source": [
    "### Define validation and training loops"
   ]
  },
  {
   "cell_type": "code",
   "execution_count": 3,
   "metadata": {},
   "outputs": [],
   "source": [
    "def validate(model, dataloader=valid_dataloader, verbose=False):\n",
    "    with torch.no_grad():\n",
    "        model.eval()\n",
    "        POS, NEG = 0, 0\n",
    "        TP, TN, FP, FN = 0, 0, 0, 0\n",
    "        valid_loss = 0\n",
    "        for features, targets in dataloader:\n",
    "            targets = targets.view(-1)\n",
    "            positive = targets == 1\n",
    "            negative = ~positive\n",
    "\n",
    "            prediction = model(features)\n",
    "            prediction = prediction.view(-1,2)\n",
    "            targets = targets.view(-1)\n",
    "            valid_loss += criterion(prediction, targets)\n",
    "\n",
    "            prediction = torch.softmax(prediction, dim=1)\n",
    "            _, prediction = prediction.topk(1, dim=1)\n",
    "            prediction = prediction.squeeze()\n",
    "\n",
    "            ## Compare prediction with target POSITIVE\n",
    "            POS += positive.sum()\n",
    "            # Target TRUE, Prediction TRUE --> True Positive\n",
    "            TP += targets[positive].eq(prediction[positive]).sum()\n",
    "\n",
    "            ## Compare prediction with target NEGATIVE\n",
    "            NEG += negative.sum()\n",
    "            # Target FALSE, Prediction FALSE --> True Negative\n",
    "            TN += targets[negative].eq(prediction[negative]).sum()\n",
    "\n",
    "        FN += POS - TP # Target TRUE, Prediction FALSE --> False Negative\n",
    "        FP += NEG - TN # Target FALSE, Prediction TRUE --> False Positive\n",
    "\n",
    "        # normalize the loss\n",
    "        valid_loss /= len(dataloader)\n",
    "\n",
    "        if verbose:\n",
    "            print(f'\\tValidation ... loss: {valid_loss:7.4f}')\n",
    "            print(f'\\t\\tTP: {TP:4d}\\tFP: {FP:4d}\\tOP: {TP+FP:4d}')\n",
    "            print(f'\\t\\tFN: {FN:4d}\\tTN: {TN:4d}\\tON: {TN+FN:4d}')\n",
    "            print(f'\\t\\tCP: {POS:4d}\\tCN: {NEG:4d}')\n",
    "            print('\\tAccuracy: {:5.2f}%\\tPrecision: {:5.2f}\\tRecall: {:5.2f}'\n",
    "                  .format((TP+TN)/float(POS+NEG)*100,\n",
    "                          TP/float(TP+FP), TP/float(TP+FN)))\n",
    "\n",
    "        model.train()\n",
    "        return valid_loss"
   ]
  },
  {
   "cell_type": "code",
   "execution_count": 4,
   "metadata": {
    "scrolled": false
   },
   "outputs": [],
   "source": [
    "def train(model, model_name='classifier',\n",
    "          dataloader=train_dataloader, epochs=5000):\n",
    "    train_loss = []\n",
    "    valid_loss = []\n",
    "    min_valid_loss = np.inf\n",
    "    ## Perform N epochs of training\n",
    "    for epoch in range(1, epochs+1):\n",
    "        epoch_loss = 0\n",
    "        for batch, (features, targets) in enumerate(dataloader):\n",
    "            ## Train the network\n",
    "            optimizer.zero_grad()\n",
    "            prediction = model(features)\n",
    "            prediction = prediction.view(-1,2)\n",
    "            targets = targets.view(-1)\n",
    "            loss = criterion(prediction, targets)\n",
    "            loss.backward()\n",
    "            optimizer.step()\n",
    "            epoch_loss += loss.item()\n",
    "\n",
    "        # Normalize the loss\n",
    "        epoch_loss /= len(dataloader)\n",
    "        train_loss.append(epoch_loss)\n",
    "        lr_scheduler.step(train_loss[-1])\n",
    "\n",
    "        if epoch % 10 == 0:\n",
    "            print('Epoch {:4d}\\ttrain loss: {:7.4f}\\t' \\\n",
    "                  .format(epoch, train_loss[-1]))\n",
    "            loss = validate(model, verbose=True)\n",
    "            valid_loss.append(loss)\n",
    "        else:\n",
    "            loss = validate(model, verbose=False)\n",
    "            valid_loss.append(loss)\n",
    "            print('Epoch {:4d}\\ttrain loss: {:7.4f}\\tvalid loss: {:7.4f}' \\\n",
    "                  .format(epoch, train_loss[-1], valid_loss[-1]))\n",
    "\n",
    "        if valid_loss[-1] < min_valid_loss:\n",
    "            min_valid_loss = valid_loss[-1]\n",
    "            torch.save(model.state_dict(), model_name+'.pt')\n",
    "\n",
    "    return train_loss, valid_loss"
   ]
  },
  {
   "cell_type": "markdown",
   "metadata": {},
   "source": [
    "## Linear Classifier\n",
    "This phase trains a feed-forward neural network to classify offer sending as appropriate or not.  \n",
    "Being a traditional classification approach, this model will be the benchmark model to compare other classification methods."
   ]
  },
  {
   "cell_type": "code",
   "execution_count": 5,
   "metadata": {},
   "outputs": [],
   "source": [
    "linear_classifier = LinearNN(input_size=16, output_size=2,\n",
    "                             hidden_layers=[128,128,128])\n",
    "criterion = nn.CrossEntropyLoss(torch.tensor([(42200. / 34072.), 1.]))\n",
    "optimizer = optim.Adam(linear_classifier.parameters(), lr=0.0001, weight_decay=0.0001)\n",
    "lr_scheduler = optim.lr_scheduler.ReduceLROnPlateau(\n",
    "    optimizer, factor=0.2, patience=20, verbose=True)"
   ]
  },
  {
   "cell_type": "code",
   "execution_count": 6,
   "metadata": {
    "scrolled": false
   },
   "outputs": [
    {
     "name": "stdout",
     "output_type": "stream",
     "text": [
      "Epoch    1\ttrain loss:  0.6357\tvalid loss:  0.6014\n",
      "Epoch    2\ttrain loss:  0.6014\tvalid loss:  0.5913\n",
      "Epoch    3\ttrain loss:  0.5946\tvalid loss:  0.5876\n",
      "Epoch    4\ttrain loss:  0.5911\tvalid loss:  0.5852\n",
      "Epoch    5\ttrain loss:  0.5889\tvalid loss:  0.5835\n",
      "Epoch    6\ttrain loss:  0.5877\tvalid loss:  0.5825\n",
      "Epoch    7\ttrain loss:  0.5859\tvalid loss:  0.5816\n",
      "Epoch    8\ttrain loss:  0.5846\tvalid loss:  0.5805\n",
      "Epoch    9\ttrain loss:  0.5834\tvalid loss:  0.5800\n",
      "Epoch   10\ttrain loss:  0.5831\t\n",
      "\tValidation ... loss:  0.5790\n",
      "\t\tTP: 2375\tFP: 1214\tOP: 3589\n",
      "\t\tFN: 1910\tTN: 4041\tON: 5951\n",
      "\t\tCP: 4285\tCN: 5255\n",
      "\tAccuracy: 67.25%\tPrecision:  0.66\tRecall:  0.55\n",
      "Epoch   11\ttrain loss:  0.5819\tvalid loss:  0.5782\n",
      "Epoch   12\ttrain loss:  0.5807\tvalid loss:  0.5796\n",
      "Epoch   13\ttrain loss:  0.5808\tvalid loss:  0.5789\n",
      "Epoch   14\ttrain loss:  0.5794\tvalid loss:  0.5777\n",
      "Epoch   15\ttrain loss:  0.5796\tvalid loss:  0.5778\n",
      "Epoch   16\ttrain loss:  0.5786\tvalid loss:  0.5775\n",
      "Epoch   17\ttrain loss:  0.5782\tvalid loss:  0.5765\n",
      "Epoch   18\ttrain loss:  0.5787\tvalid loss:  0.5765\n",
      "Epoch   19\ttrain loss:  0.5784\tvalid loss:  0.5769\n",
      "Epoch   20\ttrain loss:  0.5775\t\n",
      "\tValidation ... loss:  0.5758\n",
      "\t\tTP: 2384\tFP: 1200\tOP: 3584\n",
      "\t\tFN: 1901\tTN: 4055\tON: 5956\n",
      "\t\tCP: 4285\tCN: 5255\n",
      "\tAccuracy: 67.49%\tPrecision:  0.67\tRecall:  0.56\n",
      "Epoch   21\ttrain loss:  0.5771\tvalid loss:  0.5760\n",
      "Epoch   22\ttrain loss:  0.5771\tvalid loss:  0.5763\n",
      "Epoch   23\ttrain loss:  0.5769\tvalid loss:  0.5754\n",
      "Epoch   24\ttrain loss:  0.5761\tvalid loss:  0.5763\n",
      "Epoch   25\ttrain loss:  0.5762\tvalid loss:  0.5760\n",
      "Epoch   26\ttrain loss:  0.5759\tvalid loss:  0.5750\n",
      "Epoch   27\ttrain loss:  0.5760\tvalid loss:  0.5760\n",
      "Epoch   28\ttrain loss:  0.5761\tvalid loss:  0.5749\n",
      "Epoch   29\ttrain loss:  0.5752\tvalid loss:  0.5756\n",
      "Epoch   30\ttrain loss:  0.5753\t\n",
      "\tValidation ... loss:  0.5749\n",
      "\t\tTP: 2422\tFP: 1220\tOP: 3642\n",
      "\t\tFN: 1863\tTN: 4035\tON: 5898\n",
      "\t\tCP: 4285\tCN: 5255\n",
      "\tAccuracy: 67.68%\tPrecision:  0.67\tRecall:  0.57\n",
      "Epoch   31\ttrain loss:  0.5752\tvalid loss:  0.5760\n",
      "Epoch   32\ttrain loss:  0.5746\tvalid loss:  0.5744\n",
      "Epoch   33\ttrain loss:  0.5746\tvalid loss:  0.5745\n",
      "Epoch   34\ttrain loss:  0.5748\tvalid loss:  0.5747\n",
      "Epoch   35\ttrain loss:  0.5745\tvalid loss:  0.5750\n",
      "Epoch   36\ttrain loss:  0.5738\tvalid loss:  0.5745\n",
      "Epoch   37\ttrain loss:  0.5748\tvalid loss:  0.5749\n",
      "Epoch   38\ttrain loss:  0.5745\tvalid loss:  0.5753\n",
      "Epoch   39\ttrain loss:  0.5740\tvalid loss:  0.5750\n",
      "Epoch   40\ttrain loss:  0.5739\t\n",
      "\tValidation ... loss:  0.5748\n",
      "\t\tTP: 2448\tFP: 1245\tOP: 3693\n",
      "\t\tFN: 1837\tTN: 4010\tON: 5847\n",
      "\t\tCP: 4285\tCN: 5255\n",
      "\tAccuracy: 67.69%\tPrecision:  0.66\tRecall:  0.57\n",
      "Epoch   41\ttrain loss:  0.5731\tvalid loss:  0.5751\n",
      "Epoch   42\ttrain loss:  0.5731\tvalid loss:  0.5744\n",
      "Epoch   43\ttrain loss:  0.5736\tvalid loss:  0.5746\n",
      "Epoch   44\ttrain loss:  0.5729\tvalid loss:  0.5752\n",
      "Epoch   45\ttrain loss:  0.5730\tvalid loss:  0.5749\n",
      "Epoch   46\ttrain loss:  0.5733\tvalid loss:  0.5742\n",
      "Epoch   47\ttrain loss:  0.5729\tvalid loss:  0.5747\n",
      "Epoch   48\ttrain loss:  0.5735\tvalid loss:  0.5746\n",
      "Epoch   49\ttrain loss:  0.5724\tvalid loss:  0.5739\n",
      "Epoch   50\ttrain loss:  0.5729\t\n",
      "\tValidation ... loss:  0.5750\n",
      "\t\tTP: 2520\tFP: 1292\tOP: 3812\n",
      "\t\tFN: 1765\tTN: 3963\tON: 5728\n",
      "\t\tCP: 4285\tCN: 5255\n",
      "\tAccuracy: 67.96%\tPrecision:  0.66\tRecall:  0.59\n",
      "Epoch   51\ttrain loss:  0.5728\tvalid loss:  0.5762\n",
      "Epoch   52\ttrain loss:  0.5725\tvalid loss:  0.5748\n",
      "Epoch   53\ttrain loss:  0.5728\tvalid loss:  0.5748\n",
      "Epoch   54\ttrain loss:  0.5722\tvalid loss:  0.5753\n",
      "Epoch   55\ttrain loss:  0.5723\tvalid loss:  0.5747\n",
      "Epoch   56\ttrain loss:  0.5730\tvalid loss:  0.5746\n",
      "Epoch   57\ttrain loss:  0.5728\tvalid loss:  0.5738\n",
      "Epoch   58\ttrain loss:  0.5724\tvalid loss:  0.5739\n",
      "Epoch   59\ttrain loss:  0.5719\tvalid loss:  0.5750\n",
      "Epoch   60\ttrain loss:  0.5725\t\n",
      "\tValidation ... loss:  0.5738\n",
      "\t\tTP: 2359\tFP: 1193\tOP: 3552\n",
      "\t\tFN: 1926\tTN: 4062\tON: 5988\n",
      "\t\tCP: 4285\tCN: 5255\n",
      "\tAccuracy: 67.31%\tPrecision:  0.66\tRecall:  0.55\n",
      "Epoch   61\ttrain loss:  0.5718\tvalid loss:  0.5751\n",
      "Epoch   62\ttrain loss:  0.5720\tvalid loss:  0.5743\n",
      "Epoch   63\ttrain loss:  0.5717\tvalid loss:  0.5737\n",
      "Epoch   64\ttrain loss:  0.5717\tvalid loss:  0.5738\n",
      "Epoch   65\ttrain loss:  0.5714\tvalid loss:  0.5740\n",
      "Epoch   66\ttrain loss:  0.5718\tvalid loss:  0.5739\n",
      "Epoch   67\ttrain loss:  0.5712\tvalid loss:  0.5740\n",
      "Epoch   68\ttrain loss:  0.5718\tvalid loss:  0.5739\n",
      "Epoch   69\ttrain loss:  0.5710\tvalid loss:  0.5748\n",
      "Epoch   70\ttrain loss:  0.5721\t\n",
      "\tValidation ... loss:  0.5739\n",
      "\t\tTP: 2398\tFP: 1212\tOP: 3610\n",
      "\t\tFN: 1887\tTN: 4043\tON: 5930\n",
      "\t\tCP: 4285\tCN: 5255\n",
      "\tAccuracy: 67.52%\tPrecision:  0.66\tRecall:  0.56\n",
      "Epoch   71\ttrain loss:  0.5714\tvalid loss:  0.5739\n",
      "Epoch   72\ttrain loss:  0.5714\tvalid loss:  0.5747\n",
      "Epoch   73\ttrain loss:  0.5715\tvalid loss:  0.5740\n",
      "Epoch   74\ttrain loss:  0.5714\tvalid loss:  0.5733\n",
      "Epoch   75\ttrain loss:  0.5719\tvalid loss:  0.5739\n",
      "Epoch   76\ttrain loss:  0.5712\tvalid loss:  0.5745\n",
      "Epoch   77\ttrain loss:  0.5716\tvalid loss:  0.5742\n",
      "Epoch   78\ttrain loss:  0.5712\tvalid loss:  0.5737\n",
      "Epoch   79\ttrain loss:  0.5710\tvalid loss:  0.5738\n",
      "Epoch   80\ttrain loss:  0.5709\t\n",
      "\tValidation ... loss:  0.5734\n",
      "\t\tTP: 2420\tFP: 1229\tOP: 3649\n",
      "\t\tFN: 1865\tTN: 4026\tON: 5891\n",
      "\t\tCP: 4285\tCN: 5255\n",
      "\tAccuracy: 67.57%\tPrecision:  0.66\tRecall:  0.56\n",
      "Epoch   81\ttrain loss:  0.5712\tvalid loss:  0.5738\n",
      "Epoch   82\ttrain loss:  0.5708\tvalid loss:  0.5736\n",
      "Epoch   83\ttrain loss:  0.5709\tvalid loss:  0.5732\n",
      "Epoch   84\ttrain loss:  0.5705\tvalid loss:  0.5738\n",
      "Epoch   85\ttrain loss:  0.5712\tvalid loss:  0.5740\n",
      "Epoch   86\ttrain loss:  0.5706\tvalid loss:  0.5733\n",
      "Epoch   87\ttrain loss:  0.5705\tvalid loss:  0.5738\n",
      "Epoch   88\ttrain loss:  0.5704\tvalid loss:  0.5744\n",
      "Epoch   89\ttrain loss:  0.5706\tvalid loss:  0.5733\n",
      "Epoch   90\ttrain loss:  0.5702\t\n",
      "\tValidation ... loss:  0.5745\n",
      "\t\tTP: 2569\tFP: 1346\tOP: 3915\n",
      "\t\tFN: 1716\tTN: 3909\tON: 5625\n",
      "\t\tCP: 4285\tCN: 5255\n",
      "\tAccuracy: 67.90%\tPrecision:  0.66\tRecall:  0.60\n",
      "Epoch   91\ttrain loss:  0.5708\tvalid loss:  0.5734\n",
      "Epoch   92\ttrain loss:  0.5703\tvalid loss:  0.5732\n",
      "Epoch   93\ttrain loss:  0.5703\tvalid loss:  0.5740\n",
      "Epoch   94\ttrain loss:  0.5706\tvalid loss:  0.5738\n",
      "Epoch   95\ttrain loss:  0.5706\tvalid loss:  0.5736\n",
      "Epoch   96\ttrain loss:  0.5706\tvalid loss:  0.5731\n",
      "Epoch   97\ttrain loss:  0.5704\tvalid loss:  0.5728\n",
      "Epoch   98\ttrain loss:  0.5707\tvalid loss:  0.5747\n",
      "Epoch   99\ttrain loss:  0.5696\tvalid loss:  0.5733\n",
      "Epoch  100\ttrain loss:  0.5704\t\n",
      "\tValidation ... loss:  0.5727\n",
      "\t\tTP: 2436\tFP: 1240\tOP: 3676\n",
      "\t\tFN: 1849\tTN: 4015\tON: 5864\n",
      "\t\tCP: 4285\tCN: 5255\n",
      "\tAccuracy: 67.62%\tPrecision:  0.66\tRecall:  0.57\n"
     ]
    }
   ],
   "source": [
    "linear_loss = train(linear_classifier,\n",
    "                    model_name='linear_classifier',\n",
    "                    epochs=100)"
   ]
  },
  {
   "cell_type": "markdown",
   "metadata": {},
   "source": [
    "## Recurrent Classifier\n",
    "This phase trains a recurrent neural network to classify offer sending as appropriate or not.  \n",
    "This project proposes this model as the most suitable classification approach, considering the fact that the data is sequential."
   ]
  },
  {
   "cell_type": "code",
   "execution_count": 7,
   "metadata": {},
   "outputs": [],
   "source": [
    "recurrent_classifier = RecurrentNN(input_size=16, output_size=2,\n",
    "                                   hidden_size=128, hidden_layers=2)\n",
    "criterion = nn.CrossEntropyLoss(torch.tensor([(42200. / 34072.), 1.]))\n",
    "optimizer = optim.Adam(recurrent_classifier.parameters(), lr=0.0001, weight_decay=0.0001)\n",
    "lr_scheduler = optim.lr_scheduler.ReduceLROnPlateau(\n",
    "    optimizer, factor=0.2, patience=20, verbose=True)"
   ]
  },
  {
   "cell_type": "code",
   "execution_count": 8,
   "metadata": {
    "scrolled": false
   },
   "outputs": [
    {
     "name": "stdout",
     "output_type": "stream",
     "text": [
      "Epoch    1\ttrain loss:  0.6581\tvalid loss:  0.6429\n",
      "Epoch    2\ttrain loss:  0.6281\tvalid loss:  0.6156\n",
      "Epoch    3\ttrain loss:  0.6096\tvalid loss:  0.6069\n",
      "Epoch    4\ttrain loss:  0.6042\tvalid loss:  0.6035\n",
      "Epoch    5\ttrain loss:  0.6004\tvalid loss:  0.6002\n",
      "Epoch    6\ttrain loss:  0.5978\tvalid loss:  0.5975\n",
      "Epoch    7\ttrain loss:  0.5953\tvalid loss:  0.5949\n",
      "Epoch    8\ttrain loss:  0.5937\tvalid loss:  0.5941\n",
      "Epoch    9\ttrain loss:  0.5926\tvalid loss:  0.5916\n",
      "Epoch   10\ttrain loss:  0.5914\t\n",
      "\tValidation ... loss:  0.5913\n",
      "\t\tTP: 2160\tFP: 1145\tOP: 3305\n",
      "\t\tFN: 2125\tTN: 4110\tON: 6235\n",
      "\t\tCP: 4285\tCN: 5255\n",
      "\tAccuracy: 65.72%\tPrecision:  0.65\tRecall:  0.50\n",
      "Epoch   11\ttrain loss:  0.5907\tvalid loss:  0.5904\n",
      "Epoch   12\ttrain loss:  0.5900\tvalid loss:  0.5904\n",
      "Epoch   13\ttrain loss:  0.5898\tvalid loss:  0.5901\n",
      "Epoch   14\ttrain loss:  0.5890\tvalid loss:  0.5897\n",
      "Epoch   15\ttrain loss:  0.5884\tvalid loss:  0.5887\n",
      "Epoch   16\ttrain loss:  0.5879\tvalid loss:  0.5888\n",
      "Epoch   17\ttrain loss:  0.5875\tvalid loss:  0.5879\n",
      "Epoch   18\ttrain loss:  0.5872\tvalid loss:  0.5870\n",
      "Epoch   19\ttrain loss:  0.5871\tvalid loss:  0.5870\n",
      "Epoch   20\ttrain loss:  0.5865\t\n",
      "\tValidation ... loss:  0.5875\n",
      "\t\tTP: 2344\tFP: 1290\tOP: 3634\n",
      "\t\tFN: 1941\tTN: 3965\tON: 5906\n",
      "\t\tCP: 4285\tCN: 5255\n",
      "\tAccuracy: 66.13%\tPrecision:  0.65\tRecall:  0.55\n",
      "Epoch   21\ttrain loss:  0.5863\tvalid loss:  0.5873\n",
      "Epoch   22\ttrain loss:  0.5858\tvalid loss:  0.5866\n",
      "Epoch   23\ttrain loss:  0.5858\tvalid loss:  0.5860\n",
      "Epoch   24\ttrain loss:  0.5856\tvalid loss:  0.5854\n",
      "Epoch   25\ttrain loss:  0.5855\tvalid loss:  0.5861\n",
      "Epoch   26\ttrain loss:  0.5848\tvalid loss:  0.5857\n",
      "Epoch   27\ttrain loss:  0.5851\tvalid loss:  0.5848\n",
      "Epoch   28\ttrain loss:  0.5846\tvalid loss:  0.5858\n",
      "Epoch   29\ttrain loss:  0.5836\tvalid loss:  0.5858\n",
      "Epoch   30\ttrain loss:  0.5845\t\n",
      "\tValidation ... loss:  0.5848\n",
      "\t\tTP: 2331\tFP: 1245\tOP: 3576\n",
      "\t\tFN: 1954\tTN: 4010\tON: 5964\n",
      "\t\tCP: 4285\tCN: 5255\n",
      "\tAccuracy: 66.47%\tPrecision:  0.65\tRecall:  0.54\n",
      "Epoch   31\ttrain loss:  0.5844\tvalid loss:  0.5858\n",
      "Epoch   32\ttrain loss:  0.5839\tvalid loss:  0.5838\n",
      "Epoch   33\ttrain loss:  0.5840\tvalid loss:  0.5845\n",
      "Epoch   34\ttrain loss:  0.5835\tvalid loss:  0.5868\n",
      "Epoch   35\ttrain loss:  0.5834\tvalid loss:  0.5847\n",
      "Epoch   36\ttrain loss:  0.5832\tvalid loss:  0.5856\n",
      "Epoch   37\ttrain loss:  0.5827\tvalid loss:  0.5839\n",
      "Epoch   38\ttrain loss:  0.5830\tvalid loss:  0.5836\n",
      "Epoch   39\ttrain loss:  0.5828\tvalid loss:  0.5833\n",
      "Epoch   40\ttrain loss:  0.5827\t\n",
      "\tValidation ... loss:  0.5833\n",
      "\t\tTP: 2335\tFP: 1228\tOP: 3563\n",
      "\t\tFN: 1950\tTN: 4027\tON: 5977\n",
      "\t\tCP: 4285\tCN: 5255\n",
      "\tAccuracy: 66.69%\tPrecision:  0.66\tRecall:  0.54\n",
      "Epoch   41\ttrain loss:  0.5827\tvalid loss:  0.5832\n",
      "Epoch   42\ttrain loss:  0.5818\tvalid loss:  0.5827\n",
      "Epoch   43\ttrain loss:  0.5817\tvalid loss:  0.5837\n",
      "Epoch   44\ttrain loss:  0.5824\tvalid loss:  0.5832\n",
      "Epoch   45\ttrain loss:  0.5818\tvalid loss:  0.5824\n",
      "Epoch   46\ttrain loss:  0.5818\tvalid loss:  0.5827\n",
      "Epoch   47\ttrain loss:  0.5811\tvalid loss:  0.5825\n",
      "Epoch   48\ttrain loss:  0.5814\tvalid loss:  0.5815\n",
      "Epoch   49\ttrain loss:  0.5812\tvalid loss:  0.5820\n",
      "Epoch   50\ttrain loss:  0.5808\t\n",
      "\tValidation ... loss:  0.5820\n",
      "\t\tTP: 2243\tFP: 1143\tOP: 3386\n",
      "\t\tFN: 2042\tTN: 4112\tON: 6154\n",
      "\t\tCP: 4285\tCN: 5255\n",
      "\tAccuracy: 66.61%\tPrecision:  0.66\tRecall:  0.52\n",
      "Epoch   51\ttrain loss:  0.5808\tvalid loss:  0.5825\n",
      "Epoch   52\ttrain loss:  0.5810\tvalid loss:  0.5820\n",
      "Epoch   53\ttrain loss:  0.5805\tvalid loss:  0.5822\n",
      "Epoch   54\ttrain loss:  0.5812\tvalid loss:  0.5823\n",
      "Epoch   55\ttrain loss:  0.5805\tvalid loss:  0.5830\n",
      "Epoch   56\ttrain loss:  0.5799\tvalid loss:  0.5819\n",
      "Epoch   57\ttrain loss:  0.5800\tvalid loss:  0.5814\n",
      "Epoch   58\ttrain loss:  0.5798\tvalid loss:  0.5833\n",
      "Epoch   59\ttrain loss:  0.5798\tvalid loss:  0.5812\n",
      "Epoch   60\ttrain loss:  0.5794\t\n",
      "\tValidation ... loss:  0.5809\n",
      "\t\tTP: 2213\tFP: 1107\tOP: 3320\n",
      "\t\tFN: 2072\tTN: 4148\tON: 6220\n",
      "\t\tCP: 4285\tCN: 5255\n",
      "\tAccuracy: 66.68%\tPrecision:  0.67\tRecall:  0.52\n",
      "Epoch   61\ttrain loss:  0.5793\tvalid loss:  0.5807\n",
      "Epoch   62\ttrain loss:  0.5799\tvalid loss:  0.5814\n",
      "Epoch   63\ttrain loss:  0.5791\tvalid loss:  0.5799\n",
      "Epoch   64\ttrain loss:  0.5792\tvalid loss:  0.5799\n",
      "Epoch   65\ttrain loss:  0.5788\tvalid loss:  0.5802\n",
      "Epoch   66\ttrain loss:  0.5794\tvalid loss:  0.5819\n",
      "Epoch   67\ttrain loss:  0.5788\tvalid loss:  0.5805\n",
      "Epoch   68\ttrain loss:  0.5788\tvalid loss:  0.5793\n",
      "Epoch   69\ttrain loss:  0.5789\tvalid loss:  0.5806\n",
      "Epoch   70\ttrain loss:  0.5787\t\n",
      "\tValidation ... loss:  0.5797\n",
      "\t\tTP: 2305\tFP: 1166\tOP: 3471\n",
      "\t\tFN: 1980\tTN: 4089\tON: 6069\n",
      "\t\tCP: 4285\tCN: 5255\n",
      "\tAccuracy: 67.02%\tPrecision:  0.66\tRecall:  0.54\n",
      "Epoch   71\ttrain loss:  0.5782\tvalid loss:  0.5801\n",
      "Epoch   72\ttrain loss:  0.5781\tvalid loss:  0.5799\n",
      "Epoch   73\ttrain loss:  0.5785\tvalid loss:  0.5797\n",
      "Epoch   74\ttrain loss:  0.5778\tvalid loss:  0.5798\n",
      "Epoch   75\ttrain loss:  0.5777\tvalid loss:  0.5794\n",
      "Epoch   76\ttrain loss:  0.5780\tvalid loss:  0.5794\n",
      "Epoch   77\ttrain loss:  0.5763\tvalid loss:  0.5797\n",
      "Epoch   78\ttrain loss:  0.5777\tvalid loss:  0.5784\n",
      "Epoch   79\ttrain loss:  0.5774\tvalid loss:  0.5795\n",
      "Epoch   80\ttrain loss:  0.5769\t\n",
      "\tValidation ... loss:  0.5796\n",
      "\t\tTP: 2378\tFP: 1201\tOP: 3579\n",
      "\t\tFN: 1907\tTN: 4054\tON: 5961\n",
      "\t\tCP: 4285\tCN: 5255\n",
      "\tAccuracy: 67.42%\tPrecision:  0.66\tRecall:  0.55\n",
      "Epoch   81\ttrain loss:  0.5769\tvalid loss:  0.5785\n",
      "Epoch   82\ttrain loss:  0.5767\tvalid loss:  0.5783\n",
      "Epoch   83\ttrain loss:  0.5763\tvalid loss:  0.5779\n",
      "Epoch   84\ttrain loss:  0.5767\tvalid loss:  0.5789\n",
      "Epoch   85\ttrain loss:  0.5758\tvalid loss:  0.5794\n",
      "Epoch   86\ttrain loss:  0.5762\tvalid loss:  0.5783\n",
      "Epoch   87\ttrain loss:  0.5756\tvalid loss:  0.5775\n",
      "Epoch   88\ttrain loss:  0.5753\tvalid loss:  0.5785\n",
      "Epoch   89\ttrain loss:  0.5752\tvalid loss:  0.5779\n",
      "Epoch   90\ttrain loss:  0.5751\t\n",
      "\tValidation ... loss:  0.5780\n",
      "\t\tTP: 2358\tFP: 1151\tOP: 3509\n",
      "\t\tFN: 1927\tTN: 4104\tON: 6031\n",
      "\t\tCP: 4285\tCN: 5255\n",
      "\tAccuracy: 67.74%\tPrecision:  0.67\tRecall:  0.55\n",
      "Epoch   91\ttrain loss:  0.5748\tvalid loss:  0.5767\n",
      "Epoch   92\ttrain loss:  0.5748\tvalid loss:  0.5770\n",
      "Epoch   93\ttrain loss:  0.5746\tvalid loss:  0.5763\n",
      "Epoch   94\ttrain loss:  0.5742\tvalid loss:  0.5775\n",
      "Epoch   95\ttrain loss:  0.5748\tvalid loss:  0.5769\n",
      "Epoch   96\ttrain loss:  0.5745\tvalid loss:  0.5765\n",
      "Epoch   97\ttrain loss:  0.5731\tvalid loss:  0.5767\n",
      "Epoch   98\ttrain loss:  0.5735\tvalid loss:  0.5764\n",
      "Epoch   99\ttrain loss:  0.5742\tvalid loss:  0.5762\n",
      "Epoch  100\ttrain loss:  0.5728\t\n",
      "\tValidation ... loss:  0.5757\n",
      "\t\tTP: 2234\tFP: 1015\tOP: 3249\n",
      "\t\tFN: 2051\tTN: 4240\tON: 6291\n",
      "\t\tCP: 4285\tCN: 5255\n",
      "\tAccuracy: 67.86%\tPrecision:  0.69\tRecall:  0.52\n"
     ]
    }
   ],
   "source": [
    "recurrent_loss = train(recurrent_classifier,\n",
    "                       model_name='recurrent_classifier',\n",
    "                       epochs=100)"
   ]
  },
  {
   "cell_type": "markdown",
   "metadata": {},
   "source": [
    "## Results"
   ]
  },
  {
   "cell_type": "markdown",
   "metadata": {},
   "source": [
    "### Training phase"
   ]
  },
  {
   "cell_type": "code",
   "execution_count": 9,
   "metadata": {},
   "outputs": [
    {
     "data": {
      "image/png": "[encoded data removed]",
      "text/plain": [
       "<Figure size 1080x288 with 2 Axes>"
      ]
     },
     "metadata": {
      "needs_background": "light"
     },
     "output_type": "display_data"
    }
   ],
   "source": [
    "fig, (ax0, ax1) = plt.subplots(\n",
    "    figsize=(15,4), nrows=1, ncols=2, sharey=True)\n",
    "\n",
    "ax0.plot(linear_loss[0], label='train')\n",
    "ax0.plot(linear_loss[1], label='valid')\n",
    "ax0.set_title('Linear Classifier')\n",
    "ax0.set_ylabel('loss')\n",
    "ax0.set_xlabel('epoch')\n",
    "ax0.legend()\n",
    "\n",
    "ax1.plot(recurrent_loss[0], label='train')\n",
    "ax1.plot(recurrent_loss[1], label='valid')\n",
    "ax1.set_title('Recurrent Classifier')\n",
    "ax1.set_ylabel('loss')\n",
    "ax1.set_xlabel('epoch')\n",
    "ax1.legend()\n",
    "ax1.tick_params(reset=True)\n",
    "\n",
    "plt.show()"
   ]
  },
  {
   "cell_type": "markdown",
   "metadata": {},
   "source": [
    "### Testing the trained models"
   ]
  },
  {
   "cell_type": "code",
   "execution_count": 10,
   "metadata": {},
   "outputs": [
    {
     "name": "stdout",
     "output_type": "stream",
     "text": [
      "Models loaded successfully\n"
     ]
    }
   ],
   "source": [
    "## Load the saved models\n",
    "\n",
    "# Linear\n",
    "linear_classifier.load_state_dict(\n",
    "    torch.load('linear_classifier.pt'))\n",
    "\n",
    "# Recurrent\n",
    "recurrent_classifier.load_state_dict(\n",
    "    torch.load('recurrent_classifier.pt'))\n",
    "\n",
    "print('Models loaded successfully')"
   ]
  },
  {
   "cell_type": "code",
   "execution_count": 11,
   "metadata": {},
   "outputs": [
    {
     "name": "stdout",
     "output_type": "stream",
     "text": [
      "Linear Classifier\n",
      "\tValidation ... loss:  0.5650\n",
      "\t\tTP: 2402\tFP: 1188\tOP: 3590\n",
      "\t\tFN: 1885\tTN: 4059\tON: 5944\n",
      "\t\tCP: 4287\tCN: 5247\n",
      "\tAccuracy: 67.77%\tPrecision:  0.67\tRecall:  0.56\n",
      "\n",
      "Recurrent Classifier\n",
      "\tValidation ... loss:  0.5659\n",
      "\t\tTP: 2260\tFP:  968\tOP: 3228\n",
      "\t\tFN: 2027\tTN: 4279\tON: 6306\n",
      "\t\tCP: 4287\tCN: 5247\n",
      "\tAccuracy: 68.59%\tPrecision:  0.70\tRecall:  0.53\n"
     ]
    }
   ],
   "source": [
    "## Test models\n",
    "\n",
    "print('Linear Classifier')\n",
    "loss = validate(linear_classifier, test_dataloader, verbose=True)\n",
    "\n",
    "print('\\nRecurrent Classifier')\n",
    "loss = validate(recurrent_classifier, test_dataloader, verbose=True)"
   ]
  }
 ],
 "metadata": {
  "kernelspec": {
   "display_name": "Python 3",
   "language": "python",
   "name": "python3"
  },
  "language_info": {
   "codemirror_mode": {
    "name": "ipython",
    "version": 3
   },
   "file_extension": ".py",
   "mimetype": "text/x-python",
   "name": "python",
   "nbconvert_exporter": "python",
   "pygments_lexer": "ipython3",
   "version": "3.6.9"
  }
 },
 "nbformat": 4,
 "nbformat_minor": 4
}
